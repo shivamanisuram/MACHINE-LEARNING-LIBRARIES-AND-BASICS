{
  "nbformat": 4,
  "nbformat_minor": 0,
  "metadata": {
    "colab": {
      "provenance": []
    },
    "kernelspec": {
      "name": "python3",
      "display_name": "Python 3"
    },
    "language_info": {
      "name": "python"
    }
  },
  "cells": [
    {
      "cell_type": "markdown",
      "source": [],
      "metadata": {
        "id": "01349hDjb-Pi"
      }
    },
    {
      "cell_type": "code",
      "execution_count": null,
      "metadata": {
        "id": "RW5IQVeMMZrV"
      },
      "outputs": [],
      "source": [
        "ADVANTAGES OF NUMPY ARRAYS:\n",
        "ALLOWS SEVERAL MATHEMATICAL OPEARIONS\n",
        "FASTER OPERATIONS"
      ]
    },
    {
      "cell_type": "code",
      "source": [
        "import numpy as np\n"
      ],
      "metadata": {
        "id": "9lVlF-YWMjI0"
      },
      "execution_count": 2,
      "outputs": []
    },
    {
      "cell_type": "markdown",
      "source": [
        "LIST VS NUMPY-TIME TAKEN"
      ],
      "metadata": {
        "id": "yR0PiEracQFw"
      }
    },
    {
      "cell_type": "code",
      "source": [
        "from time import process_time"
      ],
      "metadata": {
        "id": "Vf8iUyWoMnEF"
      },
      "execution_count": 1,
      "outputs": []
    },
    {
      "cell_type": "code",
      "source": [
        "python_list=[i for i in range(10000)]\n",
        "start_time=process_time()\n",
        "python_list=[i+5 for i in python_list]\n",
        "end_time=process_time()\n",
        "print(end_time-start_time)"
      ],
      "metadata": {
        "colab": {
          "base_uri": "https://localhost:8080/"
        },
        "id": "e6WGVGhLNw0X",
        "outputId": "1391bb6d-9286-41b1-f156-e743625ec0d8"
      },
      "execution_count": 4,
      "outputs": [
        {
          "output_type": "stream",
          "name": "stdout",
          "text": [
            "0.0018375569999999897\n"
          ]
        }
      ]
    },
    {
      "source": [
        "np_array = np.array(list(i for i in range(10000)))  # Convert generator to a list before array creation.\n",
        "start_time = process_time()\n",
        "np_array += 5\n",
        "end_time = process_time()\n",
        "print(end_time - start_time)"
      ],
      "cell_type": "code",
      "metadata": {
        "colab": {
          "base_uri": "https://localhost:8080/"
        },
        "id": "xQEHnl5mPCI3",
        "outputId": "1762a642-1e1b-4717-b6e9-fea9a1f3a1ca"
      },
      "execution_count": 6,
      "outputs": [
        {
          "output_type": "stream",
          "name": "stdout",
          "text": [
            "0.002288700999999449\n"
          ]
        }
      ]
    },
    {
      "cell_type": "code",
      "source": [],
      "metadata": {
        "id": "UZYQwZMCPLlC"
      },
      "execution_count": null,
      "outputs": []
    },
    {
      "cell_type": "markdown",
      "source": [
        "NUMPY ARRAYS\n"
      ],
      "metadata": {
        "id": "ibK8ozamPY8S"
      }
    },
    {
      "cell_type": "code",
      "source": [
        "list1=[1,2,3,4,5]\n",
        "print(list1)\n",
        "type(list1)"
      ],
      "metadata": {
        "colab": {
          "base_uri": "https://localhost:8080/"
        },
        "id": "eUVl3cQUPaZh",
        "outputId": "9afaa7f2-b409-4c5c-eb55-62d77a3d96c6"
      },
      "execution_count": 7,
      "outputs": [
        {
          "output_type": "stream",
          "name": "stdout",
          "text": [
            "[1, 2, 3, 4, 5]\n"
          ]
        },
        {
          "output_type": "execute_result",
          "data": {
            "text/plain": [
              "list"
            ]
          },
          "metadata": {},
          "execution_count": 7
        }
      ]
    },
    {
      "cell_type": "code",
      "source": [
        "np_array=np.array([1,2,3,4,5])\n",
        "print(np_array)\n",
        "type(np_array)"
      ],
      "metadata": {
        "colab": {
          "base_uri": "https://localhost:8080/"
        },
        "id": "Ju-t2Q7mPra2",
        "outputId": "81a19a90-ba73-471d-fed4-1ec0da52a806"
      },
      "execution_count": 8,
      "outputs": [
        {
          "output_type": "stream",
          "name": "stdout",
          "text": [
            "[1 2 3 4 5]\n"
          ]
        },
        {
          "output_type": "execute_result",
          "data": {
            "text/plain": [
              "numpy.ndarray"
            ]
          },
          "metadata": {},
          "execution_count": 8
        }
      ]
    },
    {
      "cell_type": "code",
      "source": [
        "a=np.array([1,2,3,4])\n",
        "print(a)"
      ],
      "metadata": {
        "colab": {
          "base_uri": "https://localhost:8080/"
        },
        "id": "gFmS3TuZP454",
        "outputId": "491a85e0-eb0b-49b7-9b17-cbdc49bfddde"
      },
      "execution_count": 9,
      "outputs": [
        {
          "output_type": "stream",
          "name": "stdout",
          "text": [
            "[1 2 3 4]\n"
          ]
        }
      ]
    },
    {
      "cell_type": "code",
      "source": [
        "a.shape"
      ],
      "metadata": {
        "colab": {
          "base_uri": "https://localhost:8080/"
        },
        "id": "WPTaEQ_8QDna",
        "outputId": "7c4ae511-2017-4a04-b6ad-367193adee3d"
      },
      "execution_count": 11,
      "outputs": [
        {
          "output_type": "execute_result",
          "data": {
            "text/plain": [
              "(4,)"
            ]
          },
          "metadata": {},
          "execution_count": 11
        }
      ]
    },
    {
      "cell_type": "code",
      "source": [
        "b=np.array([(1,2,3,4),(5,6,7,8)])\n",
        "print(b)"
      ],
      "metadata": {
        "colab": {
          "base_uri": "https://localhost:8080/"
        },
        "id": "O-ZKuQocQLU5",
        "outputId": "c72768a6-71ba-49b3-95c9-af4e6117c023"
      },
      "execution_count": 13,
      "outputs": [
        {
          "output_type": "stream",
          "name": "stdout",
          "text": [
            "[[1 2 3 4]\n",
            " [5 6 7 8]]\n"
          ]
        }
      ]
    },
    {
      "cell_type": "code",
      "source": [
        "b.shape"
      ],
      "metadata": {
        "colab": {
          "base_uri": "https://localhost:8080/"
        },
        "id": "zTHAWVClQdjr",
        "outputId": "9cf2b283-7b92-4ebf-baa9-1e1fff5e1813"
      },
      "execution_count": 14,
      "outputs": [
        {
          "output_type": "execute_result",
          "data": {
            "text/plain": [
              "(2, 4)"
            ]
          },
          "metadata": {},
          "execution_count": 14
        }
      ]
    },
    {
      "cell_type": "code",
      "source": [
        "c=np.array([(1,2,3,4),(5,6,7,8)],dtype=float)\n",
        "print(c)"
      ],
      "metadata": {
        "colab": {
          "base_uri": "https://localhost:8080/"
        },
        "id": "Yktw3ZhNQkhY",
        "outputId": "4bf1021d-d6a9-40fc-be91-8ccf3cf5d314"
      },
      "execution_count": 15,
      "outputs": [
        {
          "output_type": "stream",
          "name": "stdout",
          "text": [
            "[[1. 2. 3. 4.]\n",
            " [5. 6. 7. 8.]]\n"
          ]
        }
      ]
    },
    {
      "cell_type": "code",
      "source": [],
      "metadata": {
        "id": "4tc48dGQQzIC"
      },
      "execution_count": null,
      "outputs": []
    },
    {
      "cell_type": "markdown",
      "source": [
        "INITIAL PLACE HOLDERS IN NUMPY ARRAYS\n"
      ],
      "metadata": {
        "id": "i3yiQfQXQ2B0"
      }
    },
    {
      "cell_type": "code",
      "source": [
        "x=np.zeros((4,5),dtype=float)\n",
        "print(x)"
      ],
      "metadata": {
        "colab": {
          "base_uri": "https://localhost:8080/"
        },
        "id": "JlM7Df-2Q6Do",
        "outputId": "51b6505b-74fb-425f-a165-0b2f122ac394"
      },
      "execution_count": 19,
      "outputs": [
        {
          "output_type": "stream",
          "name": "stdout",
          "text": [
            "[[0. 0. 0. 0. 0.]\n",
            " [0. 0. 0. 0. 0.]\n",
            " [0. 0. 0. 0. 0.]\n",
            " [0. 0. 0. 0. 0.]]\n"
          ]
        }
      ]
    },
    {
      "cell_type": "code",
      "source": [
        "y=np.ones((5,6))\n",
        "print(y)"
      ],
      "metadata": {
        "colab": {
          "base_uri": "https://localhost:8080/"
        },
        "id": "5MTjUjhhRQvC",
        "outputId": "623f5568-8819-47db-c160-2602296f1e9a"
      },
      "execution_count": 21,
      "outputs": [
        {
          "output_type": "stream",
          "name": "stdout",
          "text": [
            "[[1. 1. 1. 1. 1. 1.]\n",
            " [1. 1. 1. 1. 1. 1.]\n",
            " [1. 1. 1. 1. 1. 1.]\n",
            " [1. 1. 1. 1. 1. 1.]\n",
            " [1. 1. 1. 1. 1. 1.]]\n"
          ]
        }
      ]
    },
    {
      "cell_type": "code",
      "source": [
        "z=np.full((5,4),5)\n",
        "print(z)"
      ],
      "metadata": {
        "colab": {
          "base_uri": "https://localhost:8080/"
        },
        "id": "b58kDgSsRdC7",
        "outputId": "6b316583-a67d-4e20-ee82-5bc7315aa7dc"
      },
      "execution_count": 25,
      "outputs": [
        {
          "output_type": "stream",
          "name": "stdout",
          "text": [
            "[[5 5 5 5]\n",
            " [5 5 5 5]\n",
            " [5 5 5 5]\n",
            " [5 5 5 5]\n",
            " [5 5 5 5]]\n"
          ]
        }
      ]
    },
    {
      "cell_type": "code",
      "source": [
        "#create identity matrix\n",
        "a=np.eye(4)\n",
        "print(a)\n"
      ],
      "metadata": {
        "colab": {
          "base_uri": "https://localhost:8080/"
        },
        "id": "yWn2ySH-RrBE",
        "outputId": "46612765-ffcb-4dfa-b707-a1362a1ba3a2"
      },
      "execution_count": 26,
      "outputs": [
        {
          "output_type": "stream",
          "name": "stdout",
          "text": [
            "[[1. 0. 0. 0.]\n",
            " [0. 1. 0. 0.]\n",
            " [0. 0. 1. 0.]\n",
            " [0. 0. 0. 1.]]\n"
          ]
        }
      ]
    },
    {
      "cell_type": "code",
      "source": [
        "#create a numpy array with random values"
      ],
      "metadata": {
        "id": "7ShrNmteSBil"
      },
      "execution_count": null,
      "outputs": []
    },
    {
      "cell_type": "code",
      "source": [
        "b=np.random.random((3,4))\n",
        "print(b)"
      ],
      "metadata": {
        "colab": {
          "base_uri": "https://localhost:8080/"
        },
        "id": "JOwsNtsmSJqt",
        "outputId": "50a22b5e-bb05-44e5-9393-2113c2e82938"
      },
      "execution_count": 29,
      "outputs": [
        {
          "output_type": "stream",
          "name": "stdout",
          "text": [
            "[[0.25880457 0.53672874 0.93766657 0.87249696]\n",
            " [0.73383866 0.10649993 0.8031874  0.99111403]\n",
            " [0.30430915 0.34618308 0.7174912  0.99195543]]\n"
          ]
        }
      ]
    },
    {
      "cell_type": "code",
      "source": [
        "#random integer values array within a specific range\n",
        "c=np.random.randint(10,100,(3,5))\n",
        "print(c)"
      ],
      "metadata": {
        "colab": {
          "base_uri": "https://localhost:8080/"
        },
        "id": "OTIibjJhSOLC",
        "outputId": "2a7d3c49-d28c-443c-991e-50e638904f49"
      },
      "execution_count": 31,
      "outputs": [
        {
          "output_type": "stream",
          "name": "stdout",
          "text": [
            "[[22 53 11 51 45]\n",
            " [39 71 66 25 48]\n",
            " [23 41 62 56 63]]\n"
          ]
        }
      ]
    },
    {
      "cell_type": "code",
      "source": [
        "#array of evenly spaced values\n",
        "d=np.linspace(10,30,6)\n",
        "print(d)\n"
      ],
      "metadata": {
        "colab": {
          "base_uri": "https://localhost:8080/"
        },
        "id": "PQwywMqTSqn_",
        "outputId": "4e244b50-e294-4ec6-be0a-d148c0e7b6af"
      },
      "execution_count": 32,
      "outputs": [
        {
          "output_type": "stream",
          "name": "stdout",
          "text": [
            "[10. 14. 18. 22. 26. 30.]\n"
          ]
        }
      ]
    },
    {
      "cell_type": "code",
      "source": [
        "#array of evenly spaced values\n",
        "e=np.arange(10,30,5)\n",
        "print(e)"
      ],
      "metadata": {
        "colab": {
          "base_uri": "https://localhost:8080/"
        },
        "id": "B3ZcZQJtT_9Z",
        "outputId": "bd0b5612-1db7-4064-cf0f-d2fad596932d"
      },
      "execution_count": 33,
      "outputs": [
        {
          "output_type": "stream",
          "name": "stdout",
          "text": [
            "[10 15 20 25]\n"
          ]
        }
      ]
    },
    {
      "cell_type": "code",
      "source": [
        "#convert a list to a numpy array\n",
        "list2=[10,20,30,40,50]\n",
        "np_array=np.asarray(list2)\n",
        "print(np_array)\n",
        "type(np_array)\n",
        "\n"
      ],
      "metadata": {
        "colab": {
          "base_uri": "https://localhost:8080/"
        },
        "id": "47MOMDnUUclc",
        "outputId": "fbe5ad56-216b-4b3f-e4c1-601e26905998"
      },
      "execution_count": 34,
      "outputs": [
        {
          "output_type": "stream",
          "name": "stdout",
          "text": [
            "[10 20 30 40 50]\n"
          ]
        },
        {
          "output_type": "execute_result",
          "data": {
            "text/plain": [
              "numpy.ndarray"
            ]
          },
          "metadata": {},
          "execution_count": 34
        }
      ]
    },
    {
      "cell_type": "code",
      "source": [],
      "metadata": {
        "id": "1uUmlQTAU14g"
      },
      "execution_count": null,
      "outputs": []
    },
    {
      "cell_type": "markdown",
      "source": [
        "ANALYSING NUMPY ARRAY"
      ],
      "metadata": {
        "id": "a5mc4TYYU2Wv"
      }
    },
    {
      "cell_type": "code",
      "source": [
        "c=np.random.randint(10,90,(5,5))\n",
        "print(c)"
      ],
      "metadata": {
        "colab": {
          "base_uri": "https://localhost:8080/"
        },
        "id": "gPOmxRh7U4aL",
        "outputId": "8b2ff671-6769-4a36-f0e1-5af86299a19a"
      },
      "execution_count": 35,
      "outputs": [
        {
          "output_type": "stream",
          "name": "stdout",
          "text": [
            "[[78 88 47 11 59]\n",
            " [70 17 67 67 28]\n",
            " [84 23 31 31 43]\n",
            " [59 61 84 27 86]\n",
            " [44 58 49 55 58]]\n"
          ]
        }
      ]
    },
    {
      "cell_type": "code",
      "source": [
        "#array dimesnions\n",
        "print(c.shape)\n"
      ],
      "metadata": {
        "colab": {
          "base_uri": "https://localhost:8080/"
        },
        "id": "ZGm27TdAVASK",
        "outputId": "91d1a0f3-d627-4e4c-86e8-57a47fe07a00"
      },
      "execution_count": 36,
      "outputs": [
        {
          "output_type": "stream",
          "name": "stdout",
          "text": [
            "(5, 5)\n"
          ]
        }
      ]
    },
    {
      "cell_type": "code",
      "source": [
        "#number of dimesnions\n",
        "print(c.ndim)"
      ],
      "metadata": {
        "colab": {
          "base_uri": "https://localhost:8080/"
        },
        "id": "VITeBNWpVO7O",
        "outputId": "11199830-467b-4640-eb43-f5a098e6c2c1"
      },
      "execution_count": 37,
      "outputs": [
        {
          "output_type": "stream",
          "name": "stdout",
          "text": [
            "2\n"
          ]
        }
      ]
    },
    {
      "cell_type": "code",
      "source": [
        "#number of elemnts in an array\n",
        "print(c.size)"
      ],
      "metadata": {
        "colab": {
          "base_uri": "https://localhost:8080/"
        },
        "id": "9NR-eYDUVV1L",
        "outputId": "571540db-0f6c-4ea0-a0c9-cc5b9d820a49"
      },
      "execution_count": 38,
      "outputs": [
        {
          "output_type": "stream",
          "name": "stdout",
          "text": [
            "25\n"
          ]
        }
      ]
    },
    {
      "cell_type": "code",
      "source": [
        "#checking data type values in th array\n",
        "print(c.dtype)"
      ],
      "metadata": {
        "colab": {
          "base_uri": "https://localhost:8080/"
        },
        "id": "Ov0803OTVfGt",
        "outputId": "b87b54d3-5e38-4ceb-d712-6863b5841211"
      },
      "execution_count": 39,
      "outputs": [
        {
          "output_type": "stream",
          "name": "stdout",
          "text": [
            "int64\n"
          ]
        }
      ]
    },
    {
      "cell_type": "code",
      "source": [
        "mathematical operals on an np array"
      ],
      "metadata": {
        "id": "5Xi_pB-NVo4i"
      },
      "execution_count": null,
      "outputs": []
    },
    {
      "cell_type": "code",
      "source": [
        "list1=[1,2,3,4,5]\n",
        "list2=[6,7,8,9,10]\n",
        "print(list1+list2)"
      ],
      "metadata": {
        "colab": {
          "base_uri": "https://localhost:8080/"
        },
        "id": "9XR-qCfUVt9K",
        "outputId": "101f7335-fb9b-40d0-8747-b51ab340424c"
      },
      "execution_count": 40,
      "outputs": [
        {
          "output_type": "stream",
          "name": "stdout",
          "text": [
            "[1, 2, 3, 4, 5, 6, 7, 8, 9, 10]\n"
          ]
        }
      ]
    },
    {
      "cell_type": "code",
      "source": [
        "a=np.random.randint(0,10,(3,3))\n",
        "b=np.random.randint(10,20,(3,3))\n",
        "print(a)\n",
        "print(b)"
      ],
      "metadata": {
        "colab": {
          "base_uri": "https://localhost:8080/"
        },
        "id": "V2IqEzD8VysJ",
        "outputId": "8454ef5c-3f4c-4c1d-ed1c-62cd96d6dcb3"
      },
      "execution_count": 41,
      "outputs": [
        {
          "output_type": "stream",
          "name": "stdout",
          "text": [
            "[[8 2 7]\n",
            " [0 6 2]\n",
            " [2 7 6]]\n",
            "[[18 11 10]\n",
            " [13 10 14]\n",
            " [16 17 12]]\n"
          ]
        }
      ]
    },
    {
      "cell_type": "code",
      "source": [
        "print(a)"
      ],
      "metadata": {
        "colab": {
          "base_uri": "https://localhost:8080/"
        },
        "id": "xQKNCJ7eWAnE",
        "outputId": "35d6154a-916c-4a2d-9a12-17425f90147b"
      },
      "execution_count": 42,
      "outputs": [
        {
          "output_type": "stream",
          "name": "stdout",
          "text": [
            "[[8 2 7]\n",
            " [0 6 2]\n",
            " [2 7 6]]\n"
          ]
        }
      ]
    },
    {
      "cell_type": "code",
      "source": [
        "print(a+b)\n",
        "print(a-b)\n",
        "print(a*b)\n",
        "print(a/b)"
      ],
      "metadata": {
        "colab": {
          "base_uri": "https://localhost:8080/"
        },
        "id": "cF-NpX0nWEZj",
        "outputId": "3a07a0b7-8d66-4d11-9f0d-40fedd57b3c7"
      },
      "execution_count": 43,
      "outputs": [
        {
          "output_type": "stream",
          "name": "stdout",
          "text": [
            "[[26 13 17]\n",
            " [13 16 16]\n",
            " [18 24 18]]\n",
            "[[-10  -9  -3]\n",
            " [-13  -4 -12]\n",
            " [-14 -10  -6]]\n",
            "[[144  22  70]\n",
            " [  0  60  28]\n",
            " [ 32 119  72]]\n",
            "[[0.44444444 0.18181818 0.7       ]\n",
            " [0.         0.6        0.14285714]\n",
            " [0.125      0.41176471 0.5       ]]\n"
          ]
        }
      ]
    },
    {
      "cell_type": "code",
      "source": [
        "a=np.random.randint(0,10,(3,3))\n",
        "b=np.random.randint(10,20,(3,3))\n",
        "print(np.add(a,b))\n",
        "print(np.subtract(a,b))\n",
        "print(np.multiply(a,b))\n",
        "print(np.divide(a,b))"
      ],
      "metadata": {
        "colab": {
          "base_uri": "https://localhost:8080/"
        },
        "id": "Jog9PccoWmGA",
        "outputId": "77120798-74c2-45ea-af94-5155a25a9f73"
      },
      "execution_count": 44,
      "outputs": [
        {
          "output_type": "stream",
          "name": "stdout",
          "text": [
            "[[27 18 24]\n",
            " [17 19 16]\n",
            " [23 25 22]]\n",
            "[[-11 -12 -12]\n",
            " [ -3  -7 -10]\n",
            " [-15 -11 -16]]\n",
            "[[152  45 108]\n",
            " [ 70  78  39]\n",
            " [ 76 126  57]]\n",
            "[[0.42105263 0.2        0.33333333]\n",
            " [0.7        0.46153846 0.23076923]\n",
            " [0.21052632 0.38888889 0.15789474]]\n"
          ]
        }
      ]
    },
    {
      "cell_type": "code",
      "source": [],
      "metadata": {
        "id": "hHUg4LzwaiLY"
      },
      "execution_count": null,
      "outputs": []
    },
    {
      "cell_type": "markdown",
      "source": [
        "ARRAY MANIPULATION"
      ],
      "metadata": {
        "id": "k55exb2aak3H"
      }
    },
    {
      "cell_type": "code",
      "source": [
        "array=np.random.randint(0,10,(2,3))\n",
        "print(array)\n",
        "print(array.shape)"
      ],
      "metadata": {
        "colab": {
          "base_uri": "https://localhost:8080/"
        },
        "id": "SEZiOQIfamrS",
        "outputId": "f0af36fd-9590-46bc-e84a-1e8ea015430b"
      },
      "execution_count": 45,
      "outputs": [
        {
          "output_type": "stream",
          "name": "stdout",
          "text": [
            "[[7 2 9]\n",
            " [1 2 6]]\n",
            "(2, 3)\n"
          ]
        }
      ]
    },
    {
      "cell_type": "code",
      "source": [
        "#transpose of matrix\n",
        "trans=np.transpose(array)\n",
        "print(trans)\n",
        "print(trans.shape)"
      ],
      "metadata": {
        "colab": {
          "base_uri": "https://localhost:8080/"
        },
        "id": "WZP_ACdBavgS",
        "outputId": "65a0257b-2c7b-4b8d-a6e1-19f9d1deba8c"
      },
      "execution_count": 46,
      "outputs": [
        {
          "output_type": "stream",
          "name": "stdout",
          "text": [
            "[[7 1]\n",
            " [2 2]\n",
            " [9 6]]\n",
            "(3, 2)\n"
          ]
        }
      ]
    },
    {
      "cell_type": "code",
      "source": [
        "trans2=array.T\n",
        "print(trans2)\n",
        "print(trans2.shape)"
      ],
      "metadata": {
        "colab": {
          "base_uri": "https://localhost:8080/"
        },
        "id": "XrwRVClxbcDq",
        "outputId": "4f2c0b2b-4768-4bb9-9a35-94c03e50a958"
      },
      "execution_count": 47,
      "outputs": [
        {
          "output_type": "stream",
          "name": "stdout",
          "text": [
            "[[7 1]\n",
            " [2 2]\n",
            " [9 6]]\n",
            "(3, 2)\n"
          ]
        }
      ]
    },
    {
      "cell_type": "code",
      "source": [
        "#reshaping arrayy\n",
        "a=np.random.randint(0,10,(2,3))\n",
        "print(a)\n",
        "print(a.shape)"
      ],
      "metadata": {
        "colab": {
          "base_uri": "https://localhost:8080/"
        },
        "id": "0iMDojWvbjmT",
        "outputId": "821ffb51-833c-4362-b03e-9fe4941967a3"
      },
      "execution_count": 50,
      "outputs": [
        {
          "output_type": "stream",
          "name": "stdout",
          "text": [
            "[[0 8 4]\n",
            " [8 9 0]]\n",
            "(2, 3)\n"
          ]
        }
      ]
    },
    {
      "cell_type": "code",
      "source": [
        "b=a.reshape(3,2)\n",
        "print(b)\n",
        "print(b.shape)"
      ],
      "metadata": {
        "colab": {
          "base_uri": "https://localhost:8080/"
        },
        "id": "zGErR0WJbxoD",
        "outputId": "33790c76-b8a2-4281-c77a-7087688ecf87"
      },
      "execution_count": 54,
      "outputs": [
        {
          "output_type": "stream",
          "name": "stdout",
          "text": [
            "[[0 8]\n",
            " [4 8]\n",
            " [9 0]]\n",
            "(3, 2)\n"
          ]
        }
      ]
    }
  ]
}