{
  "nbformat": 4,
  "nbformat_minor": 0,
  "metadata": {
    "colab": {
      "provenance": [],
      "authorship_tag": "ABX9TyN332waBrg7vXzbQ6UnA3AZ",
      "include_colab_link": true
    },
    "kernelspec": {
      "name": "python3",
      "display_name": "Python 3"
    },
    "language_info": {
      "name": "python"
    }
  },
  "cells": [
    {
      "cell_type": "markdown",
      "metadata": {
        "id": "view-in-github",
        "colab_type": "text"
      },
      "source": [
        "<a href=\"https://colab.research.google.com/github/shivamanisuram/complete-pandas/blob/main/TEXT_DATA_PREPROCESSING.ipynb\" target=\"_parent\"><img src=\"https://colab.research.google.com/assets/colab-badge.svg\" alt=\"Open In Colab\"/></a>"
      ]
    },
    {
      "cell_type": "code",
      "execution_count": 2,
      "metadata": {
        "id": "IsIzTrTN_sJb"
      },
      "outputs": [],
      "source": [
        "import numpy as np\n",
        "import pandas as pd\n",
        "import re\n",
        "import nltk\n",
        "from nltk.corpus import stopwords\n",
        "from nltk.stem.porter import PorterStemmer\n",
        "from sklearn.feature_extraction.text import TfidfVectorizer\n",
        "from sklearn.model_selection import train_test_split"
      ]
    },
    {
      "cell_type": "code",
      "source": [
        "nltk.download('stopwords')"
      ],
      "metadata": {
        "colab": {
          "base_uri": "https://localhost:8080/"
        },
        "id": "rcxnpPorAiNd",
        "outputId": "ba156d85-bff8-4353-e3d2-4bdf5c719811"
      },
      "execution_count": 3,
      "outputs": [
        {
          "output_type": "stream",
          "name": "stderr",
          "text": [
            "[nltk_data] Downloading package stopwords to /root/nltk_data...\n",
            "[nltk_data]   Unzipping corpora/stopwords.zip.\n"
          ]
        },
        {
          "output_type": "execute_result",
          "data": {
            "text/plain": [
              "True"
            ]
          },
          "metadata": {},
          "execution_count": 3
        }
      ]
    },
    {
      "cell_type": "code",
      "source": [
        "#printing the stopwords\n",
        "print(stopwords.words('english'))"
      ],
      "metadata": {
        "colab": {
          "base_uri": "https://localhost:8080/"
        },
        "id": "e7KCS-RkAkqn",
        "outputId": "0c0df6ca-3b8d-44a3-dfba-e716214e2574"
      },
      "execution_count": 4,
      "outputs": [
        {
          "output_type": "stream",
          "name": "stdout",
          "text": [
            "['i', 'me', 'my', 'myself', 'we', 'our', 'ours', 'ourselves', 'you', \"you're\", \"you've\", \"you'll\", \"you'd\", 'your', 'yours', 'yourself', 'yourselves', 'he', 'him', 'his', 'himself', 'she', \"she's\", 'her', 'hers', 'herself', 'it', \"it's\", 'its', 'itself', 'they', 'them', 'their', 'theirs', 'themselves', 'what', 'which', 'who', 'whom', 'this', 'that', \"that'll\", 'these', 'those', 'am', 'is', 'are', 'was', 'were', 'be', 'been', 'being', 'have', 'has', 'had', 'having', 'do', 'does', 'did', 'doing', 'a', 'an', 'the', 'and', 'but', 'if', 'or', 'because', 'as', 'until', 'while', 'of', 'at', 'by', 'for', 'with', 'about', 'against', 'between', 'into', 'through', 'during', 'before', 'after', 'above', 'below', 'to', 'from', 'up', 'down', 'in', 'out', 'on', 'off', 'over', 'under', 'again', 'further', 'then', 'once', 'here', 'there', 'when', 'where', 'why', 'how', 'all', 'any', 'both', 'each', 'few', 'more', 'most', 'other', 'some', 'such', 'no', 'nor', 'not', 'only', 'own', 'same', 'so', 'than', 'too', 'very', 's', 't', 'can', 'will', 'just', 'don', \"don't\", 'should', \"should've\", 'now', 'd', 'll', 'm', 'o', 're', 've', 'y', 'ain', 'aren', \"aren't\", 'couldn', \"couldn't\", 'didn', \"didn't\", 'doesn', \"doesn't\", 'hadn', \"hadn't\", 'hasn', \"hasn't\", 'haven', \"haven't\", 'isn', \"isn't\", 'ma', 'mightn', \"mightn't\", 'mustn', \"mustn't\", 'needn', \"needn't\", 'shan', \"shan't\", 'shouldn', \"shouldn't\", 'wasn', \"wasn't\", 'weren', \"weren't\", 'won', \"won't\", 'wouldn', \"wouldn't\"]\n"
          ]
        }
      ]
    },
    {
      "cell_type": "markdown",
      "source": [
        "data preprocessing"
      ],
      "metadata": {
        "id": "Up3_CNu_A-Fm"
      }
    },
    {
      "source": [
        "# Original code\n",
        "# news_dataset = pd.read_csv('/content/fake_news_dataset.csv')\n",
        "\n",
        "# Modified code with error handling\n",
        "news_dataset = pd.read_csv('/content/fake_news_dataset.csv',\n",
        "                           on_bad_lines='skip', # Skips lines with parsing errors\n",
        "                           engine='python',     # Uses the Python parser instead of the C parser\n",
        "                           quotechar='\"',       # Explicitly defines the quote character\n",
        "                           escapechar='\\\\')      # Explicitly defines the escape character"
      ],
      "cell_type": "code",
      "metadata": {
        "id": "U2K1jRCOBkzQ"
      },
      "execution_count": 7,
      "outputs": []
    },
    {
      "cell_type": "code",
      "source": [
        "news_dataset.shape"
      ],
      "metadata": {
        "colab": {
          "base_uri": "https://localhost:8080/"
        },
        "id": "JAvNRxrKBYs6",
        "outputId": "2dfc56d3-1773-49ab-ddc9-a572c7137e95"
      },
      "execution_count": 8,
      "outputs": [
        {
          "output_type": "execute_result",
          "data": {
            "text/plain": [
              "(19721, 5)"
            ]
          },
          "metadata": {},
          "execution_count": 8
        }
      ]
    },
    {
      "cell_type": "code",
      "source": [
        "news_dataset.head()"
      ],
      "metadata": {
        "colab": {
          "base_uri": "https://localhost:8080/",
          "height": 379
        },
        "id": "l-xrNjhOBsqd",
        "outputId": "4f7f72c9-637c-42a9-f486-05ccd3b4abc9"
      },
      "execution_count": 11,
      "outputs": [
        {
          "output_type": "execute_result",
          "data": {
            "text/plain": [
              "  id                                              title              author  \\\n",
              "0  0  House Dem Aide: We Didn’t Even See Comey’s Let...       Darrell Lucus   \n",
              "1  1  FLYNN: Hillary Clinton, Big Woman on Campus - ...     Daniel J. Flynn   \n",
              "2  2                  Why the Truth Might Get You Fired  Consortiumnews.com   \n",
              "3  3  15 Civilians Killed In Single US Airstrike Hav...     Jessica Purkiss   \n",
              "4  4  Iranian woman jailed for fictional unpublished...      Howard Portnoy   \n",
              "\n",
              "                                                text  label  \n",
              "0  House Dem Aide: We Didn’t Even See Comey’s Let...    1.0  \n",
              "1  Ever get the feeling your life circles the rou...    0.0  \n",
              "2  Why the Truth Might Get You Fired October 29, ...    1.0  \n",
              "3  Videos 15 Civilians Killed In Single US Airstr...    1.0  \n",
              "4  Print \\nAn Iranian woman has been sentenced to...    1.0  "
            ],
            "text/html": [
              "\n",
              "  <div id=\"df-dc8f20d9-2acb-432e-aa9a-6d9777f25f1b\" class=\"colab-df-container\">\n",
              "    <div>\n",
              "<style scoped>\n",
              "    .dataframe tbody tr th:only-of-type {\n",
              "        vertical-align: middle;\n",
              "    }\n",
              "\n",
              "    .dataframe tbody tr th {\n",
              "        vertical-align: top;\n",
              "    }\n",
              "\n",
              "    .dataframe thead th {\n",
              "        text-align: right;\n",
              "    }\n",
              "</style>\n",
              "<table border=\"1\" class=\"dataframe\">\n",
              "  <thead>\n",
              "    <tr style=\"text-align: right;\">\n",
              "      <th></th>\n",
              "      <th>id</th>\n",
              "      <th>title</th>\n",
              "      <th>author</th>\n",
              "      <th>text</th>\n",
              "      <th>label</th>\n",
              "    </tr>\n",
              "  </thead>\n",
              "  <tbody>\n",
              "    <tr>\n",
              "      <th>0</th>\n",
              "      <td>0</td>\n",
              "      <td>House Dem Aide: We Didn’t Even See Comey’s Let...</td>\n",
              "      <td>Darrell Lucus</td>\n",
              "      <td>House Dem Aide: We Didn’t Even See Comey’s Let...</td>\n",
              "      <td>1.0</td>\n",
              "    </tr>\n",
              "    <tr>\n",
              "      <th>1</th>\n",
              "      <td>1</td>\n",
              "      <td>FLYNN: Hillary Clinton, Big Woman on Campus - ...</td>\n",
              "      <td>Daniel J. Flynn</td>\n",
              "      <td>Ever get the feeling your life circles the rou...</td>\n",
              "      <td>0.0</td>\n",
              "    </tr>\n",
              "    <tr>\n",
              "      <th>2</th>\n",
              "      <td>2</td>\n",
              "      <td>Why the Truth Might Get You Fired</td>\n",
              "      <td>Consortiumnews.com</td>\n",
              "      <td>Why the Truth Might Get You Fired October 29, ...</td>\n",
              "      <td>1.0</td>\n",
              "    </tr>\n",
              "    <tr>\n",
              "      <th>3</th>\n",
              "      <td>3</td>\n",
              "      <td>15 Civilians Killed In Single US Airstrike Hav...</td>\n",
              "      <td>Jessica Purkiss</td>\n",
              "      <td>Videos 15 Civilians Killed In Single US Airstr...</td>\n",
              "      <td>1.0</td>\n",
              "    </tr>\n",
              "    <tr>\n",
              "      <th>4</th>\n",
              "      <td>4</td>\n",
              "      <td>Iranian woman jailed for fictional unpublished...</td>\n",
              "      <td>Howard Portnoy</td>\n",
              "      <td>Print \\nAn Iranian woman has been sentenced to...</td>\n",
              "      <td>1.0</td>\n",
              "    </tr>\n",
              "  </tbody>\n",
              "</table>\n",
              "</div>\n",
              "    <div class=\"colab-df-buttons\">\n",
              "\n",
              "  <div class=\"colab-df-container\">\n",
              "    <button class=\"colab-df-convert\" onclick=\"convertToInteractive('df-dc8f20d9-2acb-432e-aa9a-6d9777f25f1b')\"\n",
              "            title=\"Convert this dataframe to an interactive table.\"\n",
              "            style=\"display:none;\">\n",
              "\n",
              "  <svg xmlns=\"http://www.w3.org/2000/svg\" height=\"24px\" viewBox=\"0 -960 960 960\">\n",
              "    <path d=\"M120-120v-720h720v720H120Zm60-500h600v-160H180v160Zm220 220h160v-160H400v160Zm0 220h160v-160H400v160ZM180-400h160v-160H180v160Zm440 0h160v-160H620v160ZM180-180h160v-160H180v160Zm440 0h160v-160H620v160Z\"/>\n",
              "  </svg>\n",
              "    </button>\n",
              "\n",
              "  <style>\n",
              "    .colab-df-container {\n",
              "      display:flex;\n",
              "      gap: 12px;\n",
              "    }\n",
              "\n",
              "    .colab-df-convert {\n",
              "      background-color: #E8F0FE;\n",
              "      border: none;\n",
              "      border-radius: 50%;\n",
              "      cursor: pointer;\n",
              "      display: none;\n",
              "      fill: #1967D2;\n",
              "      height: 32px;\n",
              "      padding: 0 0 0 0;\n",
              "      width: 32px;\n",
              "    }\n",
              "\n",
              "    .colab-df-convert:hover {\n",
              "      background-color: #E2EBFA;\n",
              "      box-shadow: 0px 1px 2px rgba(60, 64, 67, 0.3), 0px 1px 3px 1px rgba(60, 64, 67, 0.15);\n",
              "      fill: #174EA6;\n",
              "    }\n",
              "\n",
              "    .colab-df-buttons div {\n",
              "      margin-bottom: 4px;\n",
              "    }\n",
              "\n",
              "    [theme=dark] .colab-df-convert {\n",
              "      background-color: #3B4455;\n",
              "      fill: #D2E3FC;\n",
              "    }\n",
              "\n",
              "    [theme=dark] .colab-df-convert:hover {\n",
              "      background-color: #434B5C;\n",
              "      box-shadow: 0px 1px 3px 1px rgba(0, 0, 0, 0.15);\n",
              "      filter: drop-shadow(0px 1px 2px rgba(0, 0, 0, 0.3));\n",
              "      fill: #FFFFFF;\n",
              "    }\n",
              "  </style>\n",
              "\n",
              "    <script>\n",
              "      const buttonEl =\n",
              "        document.querySelector('#df-dc8f20d9-2acb-432e-aa9a-6d9777f25f1b button.colab-df-convert');\n",
              "      buttonEl.style.display =\n",
              "        google.colab.kernel.accessAllowed ? 'block' : 'none';\n",
              "\n",
              "      async function convertToInteractive(key) {\n",
              "        const element = document.querySelector('#df-dc8f20d9-2acb-432e-aa9a-6d9777f25f1b');\n",
              "        const dataTable =\n",
              "          await google.colab.kernel.invokeFunction('convertToInteractive',\n",
              "                                                    [key], {});\n",
              "        if (!dataTable) return;\n",
              "\n",
              "        const docLinkHtml = 'Like what you see? Visit the ' +\n",
              "          '<a target=\"_blank\" href=https://colab.research.google.com/notebooks/data_table.ipynb>data table notebook</a>'\n",
              "          + ' to learn more about interactive tables.';\n",
              "        element.innerHTML = '';\n",
              "        dataTable['output_type'] = 'display_data';\n",
              "        await google.colab.output.renderOutput(dataTable, element);\n",
              "        const docLink = document.createElement('div');\n",
              "        docLink.innerHTML = docLinkHtml;\n",
              "        element.appendChild(docLink);\n",
              "      }\n",
              "    </script>\n",
              "  </div>\n",
              "\n",
              "\n",
              "<div id=\"df-04fccce7-a83d-4ff1-9b08-01c819cf1f1c\">\n",
              "  <button class=\"colab-df-quickchart\" onclick=\"quickchart('df-04fccce7-a83d-4ff1-9b08-01c819cf1f1c')\"\n",
              "            title=\"Suggest charts\"\n",
              "            style=\"display:none;\">\n",
              "\n",
              "<svg xmlns=\"http://www.w3.org/2000/svg\" height=\"24px\"viewBox=\"0 0 24 24\"\n",
              "     width=\"24px\">\n",
              "    <g>\n",
              "        <path d=\"M19 3H5c-1.1 0-2 .9-2 2v14c0 1.1.9 2 2 2h14c1.1 0 2-.9 2-2V5c0-1.1-.9-2-2-2zM9 17H7v-7h2v7zm4 0h-2V7h2v10zm4 0h-2v-4h2v4z\"/>\n",
              "    </g>\n",
              "</svg>\n",
              "  </button>\n",
              "\n",
              "<style>\n",
              "  .colab-df-quickchart {\n",
              "      --bg-color: #E8F0FE;\n",
              "      --fill-color: #1967D2;\n",
              "      --hover-bg-color: #E2EBFA;\n",
              "      --hover-fill-color: #174EA6;\n",
              "      --disabled-fill-color: #AAA;\n",
              "      --disabled-bg-color: #DDD;\n",
              "  }\n",
              "\n",
              "  [theme=dark] .colab-df-quickchart {\n",
              "      --bg-color: #3B4455;\n",
              "      --fill-color: #D2E3FC;\n",
              "      --hover-bg-color: #434B5C;\n",
              "      --hover-fill-color: #FFFFFF;\n",
              "      --disabled-bg-color: #3B4455;\n",
              "      --disabled-fill-color: #666;\n",
              "  }\n",
              "\n",
              "  .colab-df-quickchart {\n",
              "    background-color: var(--bg-color);\n",
              "    border: none;\n",
              "    border-radius: 50%;\n",
              "    cursor: pointer;\n",
              "    display: none;\n",
              "    fill: var(--fill-color);\n",
              "    height: 32px;\n",
              "    padding: 0;\n",
              "    width: 32px;\n",
              "  }\n",
              "\n",
              "  .colab-df-quickchart:hover {\n",
              "    background-color: var(--hover-bg-color);\n",
              "    box-shadow: 0 1px 2px rgba(60, 64, 67, 0.3), 0 1px 3px 1px rgba(60, 64, 67, 0.15);\n",
              "    fill: var(--button-hover-fill-color);\n",
              "  }\n",
              "\n",
              "  .colab-df-quickchart-complete:disabled,\n",
              "  .colab-df-quickchart-complete:disabled:hover {\n",
              "    background-color: var(--disabled-bg-color);\n",
              "    fill: var(--disabled-fill-color);\n",
              "    box-shadow: none;\n",
              "  }\n",
              "\n",
              "  .colab-df-spinner {\n",
              "    border: 2px solid var(--fill-color);\n",
              "    border-color: transparent;\n",
              "    border-bottom-color: var(--fill-color);\n",
              "    animation:\n",
              "      spin 1s steps(1) infinite;\n",
              "  }\n",
              "\n",
              "  @keyframes spin {\n",
              "    0% {\n",
              "      border-color: transparent;\n",
              "      border-bottom-color: var(--fill-color);\n",
              "      border-left-color: var(--fill-color);\n",
              "    }\n",
              "    20% {\n",
              "      border-color: transparent;\n",
              "      border-left-color: var(--fill-color);\n",
              "      border-top-color: var(--fill-color);\n",
              "    }\n",
              "    30% {\n",
              "      border-color: transparent;\n",
              "      border-left-color: var(--fill-color);\n",
              "      border-top-color: var(--fill-color);\n",
              "      border-right-color: var(--fill-color);\n",
              "    }\n",
              "    40% {\n",
              "      border-color: transparent;\n",
              "      border-right-color: var(--fill-color);\n",
              "      border-top-color: var(--fill-color);\n",
              "    }\n",
              "    60% {\n",
              "      border-color: transparent;\n",
              "      border-right-color: var(--fill-color);\n",
              "    }\n",
              "    80% {\n",
              "      border-color: transparent;\n",
              "      border-right-color: var(--fill-color);\n",
              "      border-bottom-color: var(--fill-color);\n",
              "    }\n",
              "    90% {\n",
              "      border-color: transparent;\n",
              "      border-bottom-color: var(--fill-color);\n",
              "    }\n",
              "  }\n",
              "</style>\n",
              "\n",
              "  <script>\n",
              "    async function quickchart(key) {\n",
              "      const quickchartButtonEl =\n",
              "        document.querySelector('#' + key + ' button');\n",
              "      quickchartButtonEl.disabled = true;  // To prevent multiple clicks.\n",
              "      quickchartButtonEl.classList.add('colab-df-spinner');\n",
              "      try {\n",
              "        const charts = await google.colab.kernel.invokeFunction(\n",
              "            'suggestCharts', [key], {});\n",
              "      } catch (error) {\n",
              "        console.error('Error during call to suggestCharts:', error);\n",
              "      }\n",
              "      quickchartButtonEl.classList.remove('colab-df-spinner');\n",
              "      quickchartButtonEl.classList.add('colab-df-quickchart-complete');\n",
              "    }\n",
              "    (() => {\n",
              "      let quickchartButtonEl =\n",
              "        document.querySelector('#df-04fccce7-a83d-4ff1-9b08-01c819cf1f1c button');\n",
              "      quickchartButtonEl.style.display =\n",
              "        google.colab.kernel.accessAllowed ? 'block' : 'none';\n",
              "    })();\n",
              "  </script>\n",
              "</div>\n",
              "\n",
              "    </div>\n",
              "  </div>\n"
            ],
            "application/vnd.google.colaboratory.intrinsic+json": {
              "type": "dataframe",
              "variable_name": "news_dataset",
              "summary": "{\n  \"name\": \"news_dataset\",\n  \"rows\": 19721,\n  \"fields\": [\n    {\n      \"column\": \"id\",\n      \"properties\": {\n        \"dtype\": \"string\",\n        \"num_unique_values\": 19721,\n        \"samples\": [\n          \"18361\",\n          \"16669\",\n          \"14790\"\n        ],\n        \"semantic_type\": \"\",\n        \"description\": \"\"\n      }\n    },\n    {\n      \"column\": \"title\",\n      \"properties\": {\n        \"dtype\": \"string\",\n        \"num_unique_values\": 18802,\n        \"samples\": [\n          \"Future Diwali celebrations to be organized by ISIS!\",\n          \"Laser Scans Unveil a Network of Ancient Cities in Cambodia - The New York Times\",\n          \"Ford Sollers starts serial production of cars with Era-Glonass system\"\n        ],\n        \"semantic_type\": \"\",\n        \"description\": \"\"\n      }\n    },\n    {\n      \"column\": \"author\",\n      \"properties\": {\n        \"dtype\": \"category\",\n        \"num_unique_values\": 4065,\n        \"samples\": [\n          \"Bob Brownson\",\n          \"Rachel Nuwer\",\n          \"Matt Flegenheimer and Amy Chozick\"\n        ],\n        \"semantic_type\": \"\",\n        \"description\": \"\"\n      }\n    },\n    {\n      \"column\": \"text\",\n      \"properties\": {\n        \"dtype\": \"string\",\n        \"num_unique_values\": 19321,\n        \"samples\": [\n          \"  Carol Adl in Middle East , News // 0 Comments \\nVolunteer fighters from Iraq\\u2019s Popular Mobilization Units say they will cross the border to join the Syrian government and its allies in the ongoing fight against terrorists. \\nA spokesman said on Saturday that the fighters plan to cross the border into Syria to fight alongside President Bashar al-Assad after clearing northern Iraqi territories from the ISIS terrorist group. \\nPress TV reports: \\n\\u201cAfter clearing all our land from these terrorist gangs, we are fully ready to go to any place that contains a threat to Iraqi national security,\\u201d Ahmed al-Asadi said during a briefing with journalists in the Iraqi capital, Baghdad. \\nThe Popular Mobilization Units, generally known by the Arabic title Hashd al-Shaabi, are currently contributing to Iraqi military\\u2019s large-scale operation to liberate the northern Iraqi city of Mosul from Daesh. The Shia fighters have announced that they would mostly help the drive around Mosul and not enter the city to avoid accusations of sectarianism. \\nThe volunteer forces on Saturday began an offensive west of Mosul to cut supplies between the city and Raqqah, the de facto capital of Daesh in Syria, to tighten the siege against the militants and liberate the town of Tal Afar. \\nThe forces have played a major role in previous offensives against Daesh in central and western parts of Iraq. The group\\u2019s members have already fought alongside Syrian forces against various terror groups, but the Saturday announcement could formalize their involvement in Syria. \\nOver the past months, Syria has managed to recapture swathes of land from Daesh and other groups in east and north of the country. During the nearly six-year battle, the Syrian military has heavily relied on fighters from Lebanese resistance movement, Hezbollah, as well as advisory military support from Iran. Russia also helps Syria in the fight against terrorists through a series of coordinated airstrikes on their positions.\",\n          \"Country: China The political situation in Hong Kong (more precisely in the Hong Kong Special Administrative Region of the People\\u2019s Republic of China) has once again fallen under the influence of another \\u201c autumn escalation \\u201c. One of the most large-scale protests was a mass rally of thousands of students in September-October 2014, which was coined the Umbrella Movement by the Western media. It\\u2019s almost a year later and new riots, albeit significantly less serious ones, have taken place. As in 2014-2015, the nature of this stage of political turbulence in Hong Kong is the same. In general, it can be described with the slogan \\u201cthe price you have to pay for the transition period\\u201d. This concerns the difficulties of actual implementing the beautiful concept \\u201cOne Country \\u2013 Two Systems\\u201d created by Beijing when preparing to regain control over Hong Kong from Great Britain in 1997. Later, this concept was tested out for the possible (hypothetical and elusive) return of the lost province of Taiwan to the bosom of the Motherland. The procedure of transferring Hong Kong to the People\\u2019s Republic of China was provided for by the Sino-British Joint Declaration signed in 1984 during a visit of the then Prime Minister Margaret Thatcher to China. The strained relations between Beijing and Hong Kong are entirely based on events that preceded the handover. It\\u2019s important to remember that in the mid-19th century, Hong Kong was under the control of Great Britain following the so-called Opium Wars (which can be considered a \\u201ccrime against humanity\\u201d by today\\u2019s standards). The following 150 years, Hong Kong formed a community of citizens that were very different from the citizens in modern-day China both in terms of mentality and living standards. Today, the latter is perhaps the major factor, which determines the mood of Hong Kong\\u2019s population. However, the Western media describe the wariness of Hong Kong citizens in respect of the gradual integration into China as a mantra on \\u201cthe strive for democracy and freedom\\u201d. However, the same \\u201cfraudsters\\u201d that appeared during the decline of the USSR, then in the Middle East, and now in Ukraine, are manipulating the situation with fake ideas of \\u201cdemocracy\\u201d and \\u201cfreedom\\u201d. There was no democracy in British Hong Kong. It only started to appear after the accession to the People\\u2019s Republic of China. According to many Hong Kong citizens, this is not enough as it currently does not allow it to maintain distance from China. But this is another issue that is indirectly linked to the phenomenon of democracy as a specific social and political structure of the society. In terms of Hong Kong, it functions in compliance with the Basic Law of the Hong Kong developed in China in 1990, which came into effect in 1997, i.e. the moment Hong Kong was transferred to the Beijing\\u2019s control. Article 104 of this document requires all the representatives of the authorities pledge allegiance to the Basic Law and to Hong Kong Special Administrative Region when assuming office. The same allegiance must be pledged by the Chief Executive, whose powers can be compared to those of the head of the fiercely Presidential Republic. Article 104 is aimed at ensuring China\\u2019s control over the entire system of political and administrative management of Hong Kong, including its key structure. Nonetheless, the authors of the Basic Law neglected one very important element. They did not foresee the answer to the question of what would happen to those who distort the letter and intent of Article 104 when assuming office. This question arose on October 12, 2016, when several newly elected deputies of the local Legislative Council (Parliament) took the liberty of not only distorting the content of this Article but also shouting out words and provocative slogans about Beijing during their swearing-in ceremony. Moreover, they unfurled the banner \\u201cHong Kong is not China\\u201d. A few days later, during a repeat of the swearing-in ceremony, \\u201cpro-independence\\u201d deputies left the session hall depriving the Legislative Council of the necessary quorum. On this, the Global Times published an editorial entitled \\u201cDefiant Hong Kong legislators must be barred \\u201c. It seems that on November 7, this question was answered. This concerns the \\u201cinterpretation\\u201d of Article 104 that was employed that day at the regular session of the Standing Committee of the National People\\u2019s Congress (China\\u2019s Parliament), which assumes the status of the very same law as the Basic Law of the Hong Kong Special Administrative Region itself. In other words, from now on, violators of Article 104 are subject to the full extent of the law. The reaction on the \\u201cstreets\\u201d of Hong Kong to Beijing\\u2019s message proved to be immediate and upon the signing of the Article, events similar to the Umbrella Movement of Autumn 2014 broke out. It is worthwhile pointing out some important issues: \\u2013 the outlined process of (this certain) \\u201ccrackdown\\u201d on Hong Kong fits into the overall trend of the strengthening role of the Communist Party of China and its leader Xi Jinping in China\\u2019s life, which was the main outcome of the 6th Plenum of the 18th Congress of China\\u2019s leading party; \\u2013 the strong statements made by the USA and the EU on the violation of human rights in Hong Kong will hardly affect the degree of the aforementioned crackdown. For example, after producing its latest report on the situation in Hong Kong, Great Britain was strongly advised to refrain from interfering ; \\u2013 the anticipated \\u201cmoderate nature\\u201d of the policy of tightening control over the social and political life in Hong Kong will be determined by the need to maintain at least something of Taiwan\\u2019s positive appraisal of the \\u201cOne Country \\u2013 Two Systems\\u201d concept. The fact that the resolution of the Taiwanese problem remains a priority task for China\\u2019s leadership is confirmed by the deliberate attention on Hung Hsiu-chu who visited Beijing in late October 2016 . She took the charge of Kuomintang after the crushing defeats in the last two general elections in Taiwan ; \\u2013 it is likely that the current Chief Executive, Leung Chun-ying, will resign as a result of the above-mentioned events as well as others that have taken place in Hong Kong. He has always been pro-Beijing, and according to experts, he is close to a group inside the Communist Party leadership, which is competing with Xi Jinping. Hong Kong can currently be compared with a chicken that Beijing would have wrung the neck of a long time ago (despite any agreements with London) unless it continued laying financial \\u201cgolden eggs\\u201d. In addition, ill-considered harsh measures in respect of Hong Kong may prevent the resolution of China\\u2019s key Taiwanese problem. Therefore, Beijing has to exercise patience and carefully plan its steps in respect of the former British colony. Vladimir Terekhov, expert on the issues of the Asia-Pacific region, exclusively for the online magazine \\u201c New Eastern Outlook \\u201d \\n\",\n          \"The United Nations Human Rights Commission has expressed concerns about a video that captures members of a   youth militia in Burundi singing about raping their adversaries. [\\u201cImpregnate those opponents, so that they give birth to Imbonerakure,\\u201d says the troubling verse in the song.  The Imbonerakure are the youth wing of President Pierre Nkurunziza\\u2019s party (\\u201cyouth\\u201d defined as \\u201cany party member age 35 or younger,\\u201d according to an NPR report on the group). Their name means \\u201cthose who see far\\u201d in the Kurundi language. The opposition in Burundi has accused the Imbonerakure of militant violence, including dressing up as policemen to attack opposition demonstrators. Some of this violence has resulted in fatalities, as the militia has been known to use machetes and grenades in its attacks. The military has allegedly provided guns and explosives to the Imbonerakure. In rural Burundi, they are said to have more power than the military or police. Nkurunziza\\u2019s   party denies the most damaging allegations against the Imbonerakure or distances itself from the youth militia when it becomes politically inconvenient. The latter course seems to have been pursued here. At first, the   claimed the video showing the \\u201crape song\\u201d was a fake filmed outside Burundi, but later it admitted the footage was authentic and said the song \\u201cdoes not conform to the morals or ideology\\u201d of the party. A spokesman for the U. N. High Commissioner for Human Rights told Voice of America the Imbonerakure are waging a campaign of terror across Burundi that includes \\u201chorrendous\\u201d acts of torture such as \\u201cpeople being burnt with hot knives, acid being poured over parts of their body, teeth broken with rifle butts,\\u201d and \\u201cattacks on sexual organs. \\u201d \\u201cThese grotesque rape chants by the young men of the Imbonerakure across several provinces across Burundi are deeply alarming  \\u2014   particularly because they confirm what we have been hearing from those who have fled Burundi about a campaign of fear and terror by this organized militia,\\u201d said spokesman Rupert Colville. He added that his office has received reports of at least eight large rallies that included songs and slogans promoting rape and violence, and that senior government officials were present at some of them. Burundi has been teetering on the edge of civil war for years. The previous civil war ended in 2005, after killing some 300, 000 people, with a peace plan that limited Nkurunziza to two terms in office. However, he ran for and won a third term, claiming that his first term in office was ordained by parliament instead of the popular vote, so it should not count against the constitutional term limit. Burundi\\u2019s constitutional court accepted this argument, but many citizens did not. His government has become increasingly repressive, especially after a failed coup attempt against him in 2015. Burundi is one of those nations where \\u201cinsulting the president\\u201d is a crime punishable by jail time, even if the perpetrators are high school children. Much of the political violence in Burundi has an ethnic component, as the   is a party of the Hutu tribe, while many victims of oppression are members of the Tutsi minority, the same tribal conflict that turned Rwanda into a bloodbath. The U. N. High Commission for Human Rights chronicles numerous complaints of violence and the incitement to violence by   officials and the Imbonerakure militia, noting that \\u201ccoded language\\u201d about raping adversaries or making them disappear is all too easy to decode in a nation only a few years removed from bloody civil war. \\u201cThe Government needs to stop pretending that the Imbonerakure are nothing but a community development group,\\u201d said High Commissioner Zeid Ra\\u2019ad  . \\u201cSuch blatant and brazen hate speech and incitement to violence must not be tolerated, nor encouraged. In a region which has suffered so many massive outbreaks of violence and atrocities, this type of organized incitement rings very loud alarm bells. \\u201d\"\n        ],\n        \"semantic_type\": \"\",\n        \"description\": \"\"\n      }\n    },\n    {\n      \"column\": \"label\",\n      \"properties\": {\n        \"dtype\": \"number\",\n        \"std\": 0.5000126818233372,\n        \"min\": 0.0,\n        \"max\": 1.0,\n        \"num_unique_values\": 2,\n        \"samples\": [\n          0.0,\n          1.0\n        ],\n        \"semantic_type\": \"\",\n        \"description\": \"\"\n      }\n    }\n  ]\n}"
            }
          },
          "metadata": {},
          "execution_count": 11
        }
      ]
    },
    {
      "cell_type": "code",
      "source": [
        "news_dataset.isnull().sum()"
      ],
      "metadata": {
        "colab": {
          "base_uri": "https://localhost:8080/",
          "height": 241
        },
        "id": "wGIZVmLeBu0C",
        "outputId": "79a64022-8304-4456-90da-65f616f95f2a"
      },
      "execution_count": 12,
      "outputs": [
        {
          "output_type": "execute_result",
          "data": {
            "text/plain": [
              "id           0\n",
              "title      531\n",
              "author    1878\n",
              "text        54\n",
              "label       16\n",
              "dtype: int64"
            ],
            "text/html": [
              "<div>\n",
              "<style scoped>\n",
              "    .dataframe tbody tr th:only-of-type {\n",
              "        vertical-align: middle;\n",
              "    }\n",
              "\n",
              "    .dataframe tbody tr th {\n",
              "        vertical-align: top;\n",
              "    }\n",
              "\n",
              "    .dataframe thead th {\n",
              "        text-align: right;\n",
              "    }\n",
              "</style>\n",
              "<table border=\"1\" class=\"dataframe\">\n",
              "  <thead>\n",
              "    <tr style=\"text-align: right;\">\n",
              "      <th></th>\n",
              "      <th>0</th>\n",
              "    </tr>\n",
              "  </thead>\n",
              "  <tbody>\n",
              "    <tr>\n",
              "      <th>id</th>\n",
              "      <td>0</td>\n",
              "    </tr>\n",
              "    <tr>\n",
              "      <th>title</th>\n",
              "      <td>531</td>\n",
              "    </tr>\n",
              "    <tr>\n",
              "      <th>author</th>\n",
              "      <td>1878</td>\n",
              "    </tr>\n",
              "    <tr>\n",
              "      <th>text</th>\n",
              "      <td>54</td>\n",
              "    </tr>\n",
              "    <tr>\n",
              "      <th>label</th>\n",
              "      <td>16</td>\n",
              "    </tr>\n",
              "  </tbody>\n",
              "</table>\n",
              "</div><br><label><b>dtype:</b> int64</label>"
            ]
          },
          "metadata": {},
          "execution_count": 12
        }
      ]
    },
    {
      "cell_type": "code",
      "source": [
        "#replace misiing values with nullstring\n",
        "news_dataset = news_dataset.fillna('')"
      ],
      "metadata": {
        "id": "FSaugZxMB-dw"
      },
      "execution_count": 13,
      "outputs": []
    },
    {
      "cell_type": "code",
      "source": [
        "#merging news title and author name\n",
        "news_dataset['content'] = news_dataset['title']+' '+news_dataset['author']"
      ],
      "metadata": {
        "id": "Jtzh9KHzB-aT"
      },
      "execution_count": 14,
      "outputs": []
    },
    {
      "cell_type": "code",
      "source": [
        "news_dataset.head()"
      ],
      "metadata": {
        "colab": {
          "base_uri": "https://localhost:8080/",
          "height": 588
        },
        "id": "OQ60kLX8CVY-",
        "outputId": "a277f4ac-b1de-4fb1-d171-99c8f2321ecc"
      },
      "execution_count": 15,
      "outputs": [
        {
          "output_type": "execute_result",
          "data": {
            "text/plain": [
              "  id                                              title              author  \\\n",
              "0  0  House Dem Aide: We Didn’t Even See Comey’s Let...       Darrell Lucus   \n",
              "1  1  FLYNN: Hillary Clinton, Big Woman on Campus - ...     Daniel J. Flynn   \n",
              "2  2                  Why the Truth Might Get You Fired  Consortiumnews.com   \n",
              "3  3  15 Civilians Killed In Single US Airstrike Hav...     Jessica Purkiss   \n",
              "4  4  Iranian woman jailed for fictional unpublished...      Howard Portnoy   \n",
              "\n",
              "                                                text label  \\\n",
              "0  House Dem Aide: We Didn’t Even See Comey’s Let...   1.0   \n",
              "1  Ever get the feeling your life circles the rou...   0.0   \n",
              "2  Why the Truth Might Get You Fired October 29, ...   1.0   \n",
              "3  Videos 15 Civilians Killed In Single US Airstr...   1.0   \n",
              "4  Print \\nAn Iranian woman has been sentenced to...   1.0   \n",
              "\n",
              "                                             content  \n",
              "0  House Dem Aide: We Didn’t Even See Comey’s Let...  \n",
              "1  FLYNN: Hillary Clinton, Big Woman on Campus - ...  \n",
              "2  Why the Truth Might Get You Fired Consortiumne...  \n",
              "3  15 Civilians Killed In Single US Airstrike Hav...  \n",
              "4  Iranian woman jailed for fictional unpublished...  "
            ],
            "text/html": [
              "\n",
              "  <div id=\"df-001bccd2-1f00-45e3-8d53-856504b97b5f\" class=\"colab-df-container\">\n",
              "    <div>\n",
              "<style scoped>\n",
              "    .dataframe tbody tr th:only-of-type {\n",
              "        vertical-align: middle;\n",
              "    }\n",
              "\n",
              "    .dataframe tbody tr th {\n",
              "        vertical-align: top;\n",
              "    }\n",
              "\n",
              "    .dataframe thead th {\n",
              "        text-align: right;\n",
              "    }\n",
              "</style>\n",
              "<table border=\"1\" class=\"dataframe\">\n",
              "  <thead>\n",
              "    <tr style=\"text-align: right;\">\n",
              "      <th></th>\n",
              "      <th>id</th>\n",
              "      <th>title</th>\n",
              "      <th>author</th>\n",
              "      <th>text</th>\n",
              "      <th>label</th>\n",
              "      <th>content</th>\n",
              "    </tr>\n",
              "  </thead>\n",
              "  <tbody>\n",
              "    <tr>\n",
              "      <th>0</th>\n",
              "      <td>0</td>\n",
              "      <td>House Dem Aide: We Didn’t Even See Comey’s Let...</td>\n",
              "      <td>Darrell Lucus</td>\n",
              "      <td>House Dem Aide: We Didn’t Even See Comey’s Let...</td>\n",
              "      <td>1.0</td>\n",
              "      <td>House Dem Aide: We Didn’t Even See Comey’s Let...</td>\n",
              "    </tr>\n",
              "    <tr>\n",
              "      <th>1</th>\n",
              "      <td>1</td>\n",
              "      <td>FLYNN: Hillary Clinton, Big Woman on Campus - ...</td>\n",
              "      <td>Daniel J. Flynn</td>\n",
              "      <td>Ever get the feeling your life circles the rou...</td>\n",
              "      <td>0.0</td>\n",
              "      <td>FLYNN: Hillary Clinton, Big Woman on Campus - ...</td>\n",
              "    </tr>\n",
              "    <tr>\n",
              "      <th>2</th>\n",
              "      <td>2</td>\n",
              "      <td>Why the Truth Might Get You Fired</td>\n",
              "      <td>Consortiumnews.com</td>\n",
              "      <td>Why the Truth Might Get You Fired October 29, ...</td>\n",
              "      <td>1.0</td>\n",
              "      <td>Why the Truth Might Get You Fired Consortiumne...</td>\n",
              "    </tr>\n",
              "    <tr>\n",
              "      <th>3</th>\n",
              "      <td>3</td>\n",
              "      <td>15 Civilians Killed In Single US Airstrike Hav...</td>\n",
              "      <td>Jessica Purkiss</td>\n",
              "      <td>Videos 15 Civilians Killed In Single US Airstr...</td>\n",
              "      <td>1.0</td>\n",
              "      <td>15 Civilians Killed In Single US Airstrike Hav...</td>\n",
              "    </tr>\n",
              "    <tr>\n",
              "      <th>4</th>\n",
              "      <td>4</td>\n",
              "      <td>Iranian woman jailed for fictional unpublished...</td>\n",
              "      <td>Howard Portnoy</td>\n",
              "      <td>Print \\nAn Iranian woman has been sentenced to...</td>\n",
              "      <td>1.0</td>\n",
              "      <td>Iranian woman jailed for fictional unpublished...</td>\n",
              "    </tr>\n",
              "  </tbody>\n",
              "</table>\n",
              "</div>\n",
              "    <div class=\"colab-df-buttons\">\n",
              "\n",
              "  <div class=\"colab-df-container\">\n",
              "    <button class=\"colab-df-convert\" onclick=\"convertToInteractive('df-001bccd2-1f00-45e3-8d53-856504b97b5f')\"\n",
              "            title=\"Convert this dataframe to an interactive table.\"\n",
              "            style=\"display:none;\">\n",
              "\n",
              "  <svg xmlns=\"http://www.w3.org/2000/svg\" height=\"24px\" viewBox=\"0 -960 960 960\">\n",
              "    <path d=\"M120-120v-720h720v720H120Zm60-500h600v-160H180v160Zm220 220h160v-160H400v160Zm0 220h160v-160H400v160ZM180-400h160v-160H180v160Zm440 0h160v-160H620v160ZM180-180h160v-160H180v160Zm440 0h160v-160H620v160Z\"/>\n",
              "  </svg>\n",
              "    </button>\n",
              "\n",
              "  <style>\n",
              "    .colab-df-container {\n",
              "      display:flex;\n",
              "      gap: 12px;\n",
              "    }\n",
              "\n",
              "    .colab-df-convert {\n",
              "      background-color: #E8F0FE;\n",
              "      border: none;\n",
              "      border-radius: 50%;\n",
              "      cursor: pointer;\n",
              "      display: none;\n",
              "      fill: #1967D2;\n",
              "      height: 32px;\n",
              "      padding: 0 0 0 0;\n",
              "      width: 32px;\n",
              "    }\n",
              "\n",
              "    .colab-df-convert:hover {\n",
              "      background-color: #E2EBFA;\n",
              "      box-shadow: 0px 1px 2px rgba(60, 64, 67, 0.3), 0px 1px 3px 1px rgba(60, 64, 67, 0.15);\n",
              "      fill: #174EA6;\n",
              "    }\n",
              "\n",
              "    .colab-df-buttons div {\n",
              "      margin-bottom: 4px;\n",
              "    }\n",
              "\n",
              "    [theme=dark] .colab-df-convert {\n",
              "      background-color: #3B4455;\n",
              "      fill: #D2E3FC;\n",
              "    }\n",
              "\n",
              "    [theme=dark] .colab-df-convert:hover {\n",
              "      background-color: #434B5C;\n",
              "      box-shadow: 0px 1px 3px 1px rgba(0, 0, 0, 0.15);\n",
              "      filter: drop-shadow(0px 1px 2px rgba(0, 0, 0, 0.3));\n",
              "      fill: #FFFFFF;\n",
              "    }\n",
              "  </style>\n",
              "\n",
              "    <script>\n",
              "      const buttonEl =\n",
              "        document.querySelector('#df-001bccd2-1f00-45e3-8d53-856504b97b5f button.colab-df-convert');\n",
              "      buttonEl.style.display =\n",
              "        google.colab.kernel.accessAllowed ? 'block' : 'none';\n",
              "\n",
              "      async function convertToInteractive(key) {\n",
              "        const element = document.querySelector('#df-001bccd2-1f00-45e3-8d53-856504b97b5f');\n",
              "        const dataTable =\n",
              "          await google.colab.kernel.invokeFunction('convertToInteractive',\n",
              "                                                    [key], {});\n",
              "        if (!dataTable) return;\n",
              "\n",
              "        const docLinkHtml = 'Like what you see? Visit the ' +\n",
              "          '<a target=\"_blank\" href=https://colab.research.google.com/notebooks/data_table.ipynb>data table notebook</a>'\n",
              "          + ' to learn more about interactive tables.';\n",
              "        element.innerHTML = '';\n",
              "        dataTable['output_type'] = 'display_data';\n",
              "        await google.colab.output.renderOutput(dataTable, element);\n",
              "        const docLink = document.createElement('div');\n",
              "        docLink.innerHTML = docLinkHtml;\n",
              "        element.appendChild(docLink);\n",
              "      }\n",
              "    </script>\n",
              "  </div>\n",
              "\n",
              "\n",
              "<div id=\"df-d2ce9a6d-b3f8-413d-a363-8dab360f39c5\">\n",
              "  <button class=\"colab-df-quickchart\" onclick=\"quickchart('df-d2ce9a6d-b3f8-413d-a363-8dab360f39c5')\"\n",
              "            title=\"Suggest charts\"\n",
              "            style=\"display:none;\">\n",
              "\n",
              "<svg xmlns=\"http://www.w3.org/2000/svg\" height=\"24px\"viewBox=\"0 0 24 24\"\n",
              "     width=\"24px\">\n",
              "    <g>\n",
              "        <path d=\"M19 3H5c-1.1 0-2 .9-2 2v14c0 1.1.9 2 2 2h14c1.1 0 2-.9 2-2V5c0-1.1-.9-2-2-2zM9 17H7v-7h2v7zm4 0h-2V7h2v10zm4 0h-2v-4h2v4z\"/>\n",
              "    </g>\n",
              "</svg>\n",
              "  </button>\n",
              "\n",
              "<style>\n",
              "  .colab-df-quickchart {\n",
              "      --bg-color: #E8F0FE;\n",
              "      --fill-color: #1967D2;\n",
              "      --hover-bg-color: #E2EBFA;\n",
              "      --hover-fill-color: #174EA6;\n",
              "      --disabled-fill-color: #AAA;\n",
              "      --disabled-bg-color: #DDD;\n",
              "  }\n",
              "\n",
              "  [theme=dark] .colab-df-quickchart {\n",
              "      --bg-color: #3B4455;\n",
              "      --fill-color: #D2E3FC;\n",
              "      --hover-bg-color: #434B5C;\n",
              "      --hover-fill-color: #FFFFFF;\n",
              "      --disabled-bg-color: #3B4455;\n",
              "      --disabled-fill-color: #666;\n",
              "  }\n",
              "\n",
              "  .colab-df-quickchart {\n",
              "    background-color: var(--bg-color);\n",
              "    border: none;\n",
              "    border-radius: 50%;\n",
              "    cursor: pointer;\n",
              "    display: none;\n",
              "    fill: var(--fill-color);\n",
              "    height: 32px;\n",
              "    padding: 0;\n",
              "    width: 32px;\n",
              "  }\n",
              "\n",
              "  .colab-df-quickchart:hover {\n",
              "    background-color: var(--hover-bg-color);\n",
              "    box-shadow: 0 1px 2px rgba(60, 64, 67, 0.3), 0 1px 3px 1px rgba(60, 64, 67, 0.15);\n",
              "    fill: var(--button-hover-fill-color);\n",
              "  }\n",
              "\n",
              "  .colab-df-quickchart-complete:disabled,\n",
              "  .colab-df-quickchart-complete:disabled:hover {\n",
              "    background-color: var(--disabled-bg-color);\n",
              "    fill: var(--disabled-fill-color);\n",
              "    box-shadow: none;\n",
              "  }\n",
              "\n",
              "  .colab-df-spinner {\n",
              "    border: 2px solid var(--fill-color);\n",
              "    border-color: transparent;\n",
              "    border-bottom-color: var(--fill-color);\n",
              "    animation:\n",
              "      spin 1s steps(1) infinite;\n",
              "  }\n",
              "\n",
              "  @keyframes spin {\n",
              "    0% {\n",
              "      border-color: transparent;\n",
              "      border-bottom-color: var(--fill-color);\n",
              "      border-left-color: var(--fill-color);\n",
              "    }\n",
              "    20% {\n",
              "      border-color: transparent;\n",
              "      border-left-color: var(--fill-color);\n",
              "      border-top-color: var(--fill-color);\n",
              "    }\n",
              "    30% {\n",
              "      border-color: transparent;\n",
              "      border-left-color: var(--fill-color);\n",
              "      border-top-color: var(--fill-color);\n",
              "      border-right-color: var(--fill-color);\n",
              "    }\n",
              "    40% {\n",
              "      border-color: transparent;\n",
              "      border-right-color: var(--fill-color);\n",
              "      border-top-color: var(--fill-color);\n",
              "    }\n",
              "    60% {\n",
              "      border-color: transparent;\n",
              "      border-right-color: var(--fill-color);\n",
              "    }\n",
              "    80% {\n",
              "      border-color: transparent;\n",
              "      border-right-color: var(--fill-color);\n",
              "      border-bottom-color: var(--fill-color);\n",
              "    }\n",
              "    90% {\n",
              "      border-color: transparent;\n",
              "      border-bottom-color: var(--fill-color);\n",
              "    }\n",
              "  }\n",
              "</style>\n",
              "\n",
              "  <script>\n",
              "    async function quickchart(key) {\n",
              "      const quickchartButtonEl =\n",
              "        document.querySelector('#' + key + ' button');\n",
              "      quickchartButtonEl.disabled = true;  // To prevent multiple clicks.\n",
              "      quickchartButtonEl.classList.add('colab-df-spinner');\n",
              "      try {\n",
              "        const charts = await google.colab.kernel.invokeFunction(\n",
              "            'suggestCharts', [key], {});\n",
              "      } catch (error) {\n",
              "        console.error('Error during call to suggestCharts:', error);\n",
              "      }\n",
              "      quickchartButtonEl.classList.remove('colab-df-spinner');\n",
              "      quickchartButtonEl.classList.add('colab-df-quickchart-complete');\n",
              "    }\n",
              "    (() => {\n",
              "      let quickchartButtonEl =\n",
              "        document.querySelector('#df-d2ce9a6d-b3f8-413d-a363-8dab360f39c5 button');\n",
              "      quickchartButtonEl.style.display =\n",
              "        google.colab.kernel.accessAllowed ? 'block' : 'none';\n",
              "    })();\n",
              "  </script>\n",
              "</div>\n",
              "\n",
              "    </div>\n",
              "  </div>\n"
            ],
            "application/vnd.google.colaboratory.intrinsic+json": {
              "type": "dataframe",
              "variable_name": "news_dataset",
              "summary": "{\n  \"name\": \"news_dataset\",\n  \"rows\": 19721,\n  \"fields\": [\n    {\n      \"column\": \"id\",\n      \"properties\": {\n        \"dtype\": \"string\",\n        \"num_unique_values\": 19721,\n        \"samples\": [\n          \"18361\",\n          \"16669\",\n          \"14790\"\n        ],\n        \"semantic_type\": \"\",\n        \"description\": \"\"\n      }\n    },\n    {\n      \"column\": \"title\",\n      \"properties\": {\n        \"dtype\": \"string\",\n        \"num_unique_values\": 18803,\n        \"samples\": [\n          \"Kristen Stewart: We Must \\u2018Shatter\\u2019 Idea That Playing With Toy Guns Is Cool\",\n          \"Russia Has Called the War Party's Bluff     :\",\n          \"MILO: \\u2019Non-College Educated Doesn\\u2019t Mean Stupid\\u2019 - Breitbart\"\n        ],\n        \"semantic_type\": \"\",\n        \"description\": \"\"\n      }\n    },\n    {\n      \"column\": \"author\",\n      \"properties\": {\n        \"dtype\": \"category\",\n        \"num_unique_values\": 4066,\n        \"samples\": [\n          \"Harun Yahya\",\n          \"Ben Hubbard, Eric Lipton, Dan Levin and Richard C. Paddock\",\n          \"Andrew Mullins\"\n        ],\n        \"semantic_type\": \"\",\n        \"description\": \"\"\n      }\n    },\n    {\n      \"column\": \"text\",\n      \"properties\": {\n        \"dtype\": \"string\",\n        \"num_unique_values\": 19322,\n        \"samples\": [\n          \"BUDAPEST  \\u2014   Lawmakers in Hungary on Tuesday rejected a proposed national ban on refugees relocated from the rest of the European Union, dealing a rare defeat to Prime Minister Viktor Orban. Mr. Orban submitted a plan to ban the refugees, in the form of a constitutional amendment, last month, after a similar proposal failed to pass by referendum because of insufficient voter turnout. He has vowed to block a European Union program that would resettle migrants from the Middle East and Africa who have gone to countries like Greece and Italy. Under that program, Hungary, a nation of 10 million, would have to accept  1, 294 of a total of about 160, 000 migrants. The amendment needed   of sitting members of the   Parliament to pass. It got 131 votes on Tuesday  \\u2014   two shy of the necessary threshold. Three lawmakers voted no, and the rest abstained. The   Jobbik party, which is part of the official opposition but usually sides with Mr. Orban\\u2019s Fidesz party on migration issues, was crucial to the defeat of the amendment. Gabor Vona, a lawmaker and the leader of Jobbik, said that his party would support only a solution that \\u201cdefends Hungary and Hungarian people, not just from poor migrants but from rich migrants, not just from poor terrorists but from rich terrorists. \\u201d He was referring to a rule that allows foreigners who invest over 300, 000 euros, or about $332, 000, in Hungarian bonds to acquire residency. The program dates to 2012, but it has drawn attention recently, after reports that Hungarian bonds could be bought in places like Erbil, Iraq. Critics say that allowing migrants to settle in Hungary could open the door to terrorists from unstable countries like Iraq, and they say the residency program might open the door to corruption. The Fidesz party has been politically weaker since last year, when it lost its supermajority in Parliament. That advantage had allowed Mr. Orban\\u2019s government to rewrite the Constitution and to pass legislation to rein in the judiciary and the press, packing some of the country\\u2019s top institutions with political allies. Lajos Kosa, an ally of Mr. Orban who leads Fidesz lawmakers in Parliament, said before the vote on Tuesday that the Jobbik party would be \\u201cjoining the ranks of traitors\\u201d if it rejected the amendment. \\u201cHungary can only count on Fidesz and K. D. N. P. in the struggle against migration,\\u201d he said as he emerged from the vote, using the initials for the Christian Democratic People\\u2019s Party, which is part of the governing coalition. \\u201cWe are naturally going to continue the struggle,\\u201d he said, noting that more than three million voters in the referendum had opted to support the ban on migrants. On Tuesday, analysts were cautious in interpreting the defeat of the amendment as a sign of the government\\u2019s declining political power. \\u201cI wouldn\\u2019t say that this is a huge failure for Orban  \\u2014   it\\u2019s a failure, but a minor one,\\u201d said Csaba Toth, the director of strategy for the Republikon Institute, a research and advocacy group that has been critical of Mr. Orban\\u2019s government. \\u201cThis is the second time the government can\\u2019t have their own way, which is important for a group whose main governing strategy is power. \\u201d Last year, Mr. Orban and his government began an aggressive campaign against migrants, particularly those from the Middle East, as hundreds of thousands crossed Hungary\\u2019s southern border, most of them en route to Germany. The number of crossings fell nearly to zero after Hungary built a   fence along sections of the border and as the flow of migrants shifted away from the Balkans. Nonetheless, Fidesz\\u2019s campaign against migration has continued, and the party\\u2019s stance has seized both attention and voters from Jobbik, which had been the main voice for   nationalists. Mr. Toth, the analyst, said that the vote on Tuesday could be seen as an attempt by Jobbik to improve its political standing. \\u201cIt can say that corruption is more important to Fidesz than the fight against quotas,\\u201d he said.\",\n          \"While You Were Watching the World Series Some Very, Very Big News Broke Posted on Tweet Home \\u00bb Headlines \\u00bb World News \\u00bb While You Were Watching the World Series Some Very, Very Big News Broke \\nWhile most Americans were captivated by last night\\u2019s World Series Game 7, some very, VERY big news broke. The real blockbuster came from Fox News\\u2019 Bret Baier, who released some serious information courtesy of two sources at the FBI. \\n\\nSubmitted by Michael Krieger : \\nNormally, I\\u2019d summarize the news and provide my perspective before highlighting source text, but in this case I want to provide the information first. \\nThe real blockbuster came from Fox News\\u2019 Bret Baier, who released some serious information courtesy of two sources at the FBI. Real Clear Politics summarized Bret\\u2019s primary conclusions based on his conversations: \\n1. The Clinton Foundation investigation is far more expansive than anybody has reported so far and has been going on for more than a year. \\n2. The laptops of Clinton aides Cherryl Mills and Heather Samuelson have not been destroyed, and agents are currently combing through them. The investigation has interviewed several people twice, and plans to interview some for a third time. \\n3. Agents have found emails believed to have originated on Hillary Clinton\\u2019s secret server on Anthony Weiner\\u2019s laptop. They say the emails are not duplicates and could potentially be classified in nature. \\n4. Sources within the FBI have told him that an indictment is \\u201clikely\\u201d in the case of pay-for-play at the Clinton Foundation, \\u201cbarring some obstruction in some way\\u201d from the Justice Department. \\n5. FBI sources say with 99% accuracy that Hillary Clinton\\u2019s server has been hacked by at least five foreign intelligence agencies, and that information had been taken from it. \\nHere\\u2019s Bret Baier saying it in his own words: \\nWhile Friday\\u2019s bombshell alerted the American public to the reopening of Hillary Clinton\\u2019s private email server probe, the Clinton Foundation investigation is a totally separate beast. It\\u2019s now clear that Hillary Clinton, and much of her close circle, are subject to two very serious ongoing investigations. As I explained in the post, Another Black Swan Hits the U.S. Presidential Election , this is very material to the Presidential election for the following reason: \\nThe problems with Hillary Clinton will never go away. They will always resurface or new problems will emerge, and it has nothing to do with a \\u201cvast rightwing conspiracy\\u201d (or Putin). It has to do with her. It has to do with the fact that her and her husband are career crooks, warmongers, and shameless looters of the American public. This re-opening of the FBI investigation just hammers all of that home for everyone. We know what 4 years of Hillary will look like. It\\u2019ll be Obama cronyism on steroids, plus endless investigations with a side of World War 3. I don\\u2019t think people want that, and so more Americans than the pundits realize will take a gamble on Trump. \\nThe latest revelations about the Clinton Foundation investigation just further hammers home the above point. \\nMoreover, it\\u2019s becoming increasingly clear that political appointees at the Injustice Department like Loretta Lynch and Peter Kadzik (John Podesta\\u2019s close friend since the 1970s) have been trying to thwart probes into the dirtiness of the Clinton Foundation. I covered this earlier in the week in the post, The Story of How the DOJ Tried to Thwart an FBI Investigation Into the Clinton Foundation , but additional details have started to emerge. \\nAs we learned from yesterday\\u2019s CNN article, Turmoil in the FBI: \\nBehind the scenes over the past 15 months, infighting among some agents and officials has exposed some parts of the storied bureau to be buffeted by some of the same bitter divisions as the rest of American society. \\nThis account is based on interviews with more than a dozen officials close to the matter who spoke anonymously because they\\u2019ve been ordered not to speak to the news media. \\nTensions have built in particular over the handling of matters related to Hillary Clinton. Some of the sharpest divides have emerged between some agents in the FBI\\u2019s New York field office, the bureau\\u2019s largest and highest-profile, and officials at FBI headquarters in Washington and at the Justice Department. \\nSome rank-and-file agents interpreted cautious steps taken by the Justice Department and FBI headquarters as being done for political reasons or to protect a powerful political figure. At headquarters, some have viewed the actions and complaints of some agents in the field as driven by the common desire of investigators to get a big case or, perhaps worst, because of partisan views. \\nMuch of the turmoil centers not only on the handling of the probe into Clinton\\u2019s use of a private server while secretary of state, but also another case some FBI agents wanted to pursue into the Clinton Foundation and whether there was any impropriety in dealings with donors. \\nIn both cases, some FBI investigators felt stymied by headquarters and Justice Department officials and they interpreted roadblocks as politically partisan. \\nDuring the Clinton email server investigation, investigators and prosecutors debated whether to issue subpoenas to Clinton\\u2019s aides, officials say. Leaders at the FBI and at the Justice Department thought it would be faster to come to voluntary agreements with aides. Subpoenas could cause delays, particularly if litigation is necessary, officials said. And the FBI and Justice Department wanted to try to complete the probe and get out of the way of the 2016 election. \\nNow here\\u2019s where the Clinton Foundation probe comes into focus\\u2026 \\nIn the Clinton Foundation probe, at least one FBI field office also received notification of a possible suspicious bank transaction. The transaction involving a Clinton Foundation donor was flagged in what is known as a suspicious activity report, routine notices sent through the Treasury Department\\u2019s financial enforcement arm. \\nBy early this year, FBI agents from four field offices \\u2014 Los Angeles, Little Rock, Arkansas, Washington, D.C., and New York \\u2014 had open files on the Clinton Foundation and were seeking to get permission to formally conduct investigations of the Clinton Foundation. \\nIn February, as CNN first reported, FBI criminal division leaders and lawyers met with the lawyers from the Justice Department\\u2019s public integrity section to present what was known so far and to seek permission to conduct full-blown investigations, including the ability to subpoena records. \\nAt that time, the Justice officials in the meeting advised FBI officials that there wasn\\u2019t sufficient evidence to move forward and declined to give the authorization for overt investigative techniques. Some officials described a contentious meeting with strong disagreement on both sides. \\nOfficials leading the meeting told the FBI that investigators hadn\\u2019t turned up much more evidence beyond that contained in \\u201cClinton Cash.\\u201d \\nFBI lawyers at headquarters concurred with the Justice Department\\u2019s view that agents be allowed to continue their work with the option to return if they found more evidence. \\nIn July, Comey made his announcement to recommend no charges against Clinton. \\nAt a Capitol Hill hearing days later, Comey told members of Congress that he was proud there had been no leaks of his decision. \\nBut blowback from some current and former agents was immediate. As Comey made his rounds of visits to field offices around the country, he heard stinging criticism, particularly from retired agents. \\nAt one meeting in Kansas City, Comey was confronted with stinging criticism of the probe. He pushed back, saying the career agents who knew the most of the case arrived at the conclusion that the case against Clinton wasn\\u2019t even a close call. \\nFBI agents again pressed to take more overt steps in the Clinton Foundation probe, including possibly issuing subpoenas. \\nJustice Department officials again opposed such moves. They cited, again, a lack of evidence to warrant more investigative steps. And they expressed concerns that with the election close, any overt actions shouldn\\u2019t be made until after Election Day. \\n\\u201cIt\\u2019s just a (message of) \\u2018hold right now until after the elections \\u2014 no subpoenas issued, no interviews,\\u201d one law enforcement official familiar with the July decision said. \\nSo what conclusions can we draw from the above? First, it seems to confirm some of what Fox reported, namely that there is an ongoing investigation into the Clinton Foundation. That\\u2019s important in its own right for the reasons I explained earlier. The second bit of information is new. We learned that Justice Department officials \\u201c expressed concerns that with the election close, any overt actions shouldn\\u2019t be made until after Election Day.\\u201d The pieces are finally coming together\\u2026 \\nSpecifically, one of the more interesting aspects of last night\\u2019s news is the increased willingness of FBI agents to break protocol and speak to the media about ongoing investigations. Why would they do that? They seem to be doing it due to continued concerns over political interference from the Justice Department (and possibly FBI headquarters) into various investigations into the workings of an extremely powerful political-oligarch family. They are rightly troubled by what a President Clinton could do to any investigation if she\\u2019s elected. As such, they are trying to get their concerns out to the public ahead of time. \\nI\\u2019ve been watching all of this develop for some time, and I wrote two prior articles on the topic. Here they are in case you missed them: \\nOctober 7, 2016: Backlash Grows Months After the FBI\\u2019s Sham Investigation Into Hillary Clinton \\nOctober 18, 2016: Internal Anger at the FBI Over Clinton Investigation Continues to Grow \\nSo what\\u2019s going on is extremely serious, and many within the FBI appear to be acutely concerned that the perception of the rule of law will be permanently destroyed if Clinton gets into the White House and shuts down all investigations into her and her inner circle. Martin Armstrong summarized the situation perfectly in a blog post earlier today: \\nThe Department of Justice is so compromised with Lynch at the head it is getting to be absurd. Peter J. Kadzik is the Assistant Attorney General for Legislative Affairs at the Department of Justice (DOJ). Clearly, there is an internal war going on as I reported. Now that the FBI has over the 650,000 emails uncovered in Anthony Weiner\\u2019s notebook, which Huma Abedin failed to turnover to Congress claiming she had no idea how they got there. The US Justice Department announced it is now also joining the probe to dedicate all necessary resources to quickly clear Hillary, up pops the conflict of interest. In the letter to Congress, the DOJ person to aid this investigation to clear Hillary by the election, is Assistant Attorney General Peter J. Kadzik who wrote to the House and Senate lawmakers. \\nThis is Podesta\\u2019s friend for dinner who goes to his house. Plus, Peter Kadzik donated $250 to Hillary also noted in Podesta\\u2019s spreadsheet. Kadzik and Podesta were classmates at Georgetown Law School back in the 1970s and have been good friends ever since. In fact, Kadzik represented Podesta during the Monica Lewinsky investigation and Podesta wrote that Kadzik was a \\u201cfantastic lawyer\\u201d who \\u201ckept me out of jail.\\u201d It was also Kadzik who lobbied Podesta for Marc Rich to obtain a pardon for a fugitive when you have to show remorse to get a pardon. Never has a Pardon been granted to a fugitive in this manner. Then Kadzik\\u2019s wife, Amy Weiss of Weiss Public Affairs, worked on the 1992 Clinton/Gore Campaign as a Press Secretary. She was the Communications Director for the Democratic National Committee, and on top of that, she was White House Deputy Assistant to the President Bill Clinton. It gets better. Another email sent on May 5, 2015, Kadzik\\u2019s son asked Podesta for a job on the Clinton campaign. This is the independent person appointed by Lynch to clear Hillary? Come on! This is outright in your face corruption. \\nWhy would the DOJ pick such a conflicted person? The answer is obvious. They want to CLEAR Hillary no matter what. Kadzik is there to now counteract anything Comey does because there is really an internal war waging in Washington. The screams from behind the curtain are getting deafening. It is so disgusting that we are witnessing the complete collapse of anything pretended to be the rule of law. The status quo, including George Bush Sr, are all backing Hillary so there is NOTHING that will change and they all live fat and happy off of our taxes and legal oppression. This is really becoming a battle to save the country from the privileged establishment. They milk us like cows and send our boys into battle with lies and propaganda to enrich themselves. I lost half my school friends to Vietnam when Lyndon Johnson even said in 1965 the Vietnamese never attacked us; \\u201cFor all I know, our navy was shooting at whales out there.\\u201d (source) \\nI\\u2019ve also covered the disturbing crony relationships between the DOJ/FBI and Clinton\\u2019s inner circle in recent weeks. For more on that, see:\",\n          \"Let\\u2019s just get this out of the way, shall we? Ayelet Waldman: intemperate tweeter, guerrilla oversharer, provocateur, literary exhibitionist, cyclone of sass. When The New York Times Book Review didn\\u2019t select her novel \\u201cLove and Treasure\\u201d as one of its 100 Notable Books of 2014, she unleashed a  tweetstorm of hurt. (  excerpt: \\u201cthere are MANY books on that notable list with reviews that were NOWHERE near as good as mine. \\u201d) When she announced in a 2005 essay that she loved her husband, the novelist Michael Chabon, more than she loved her children, outraged mothers everywhere clucked and   and when she expressed surprise, the chorus came back  \\u2014   Well, what on earth did you expect? But here\\u2019s my question for those who sneer at or   her new memoir about the possible therapeutic value of LSD, \\u201cA Really Good Day: How Microdosing Made a Mega Difference in My Mood, My Marriage, and My Life\\u201d: What on earth did you expect? Here is the truth about Ms. Waldman, which complicates matters for those who don\\u2019t like her: She has spent many years struggling with punishing, ungovernable moods. Originally, doctors told her she had bipolar II disorder years later, a psychiatrist decided premenstrual dysphoric disorder more closely corresponded with her symptoms, and Ms. Waldman agreed. But whatever it\\u2019s called, hers is not a mood disorder of the quiet, novelistic variety. It\\u2019s big and operatic, often driving her to do the very things for which she\\u2019s been publicly shamed: acting out, picking fights, trawling for affirmation. Just because she doesn\\u2019t have a picturesque version of melancholy doesn\\u2019t make it any less real or any less deserving of compassion. And after reading \\u201cA Really Good Day,\\u201d you understand just why Ms. Waldman might have been willing to experiment to find relief. She\\u2019d exhausted her family. She\\u2019d exhausted all manner of therapies. And she\\u2019d exhausted just about every drug in the pharmacopoeia  \\u2014   including the ones that sound like Spanish dances (Cymbalta, Strattera, Concerta) the ones that look like typing tests (Zoloft, Effexor, Seroquel) and the ones that could well be craters on the moon (Valium, Ambien, Lunesta). Her Ambien dependence proved particularly problematic. When she took too much, she\\u2019d have text exchanges with Mr. Chabon that looked like this: Hence Ms. Waldman\\u2019s   trial with LSD  \\u2014   10 micrograms every three days. A microdose, as she explains, is anywhere from   to   of what one would find on a   tab of acid. It doesn\\u2019t turn the world into a bubbling lava lamp. This dosage, taken at this rate, is \\u201c\\u201d according to the psychologist and former psychedelic researcher James Fadiman. Mr. Fadiman\\u2019s (admittedly informal, nonrandomized) research suggests that people who follow this protocol simply feel   \\u2026     better. Ms. Waldman wanted to know what something as luxuriously pedestrian as \\u201cbetter\\u201d was like. \\u201cA Really Good Day\\u201d is a captain\\u2019s log of her    trip. It combines daily reports of her moods with the research she\\u2019s done about the history of psychedelics and her extended meditations on drugs and the law. (Before becoming a writer, Ms. Waldman was a federal public defender.) And what does she find? That the experience really is transformative. \\u201cYou\\u2019ve been much happier,\\u201d her younger daughter tells her. \\u201cYou\\u2019ve been controlling your emotions. Like, when you\\u2019re angry, you\\u2019re  . \\u201d The reader doesn\\u2019t have quite as uniformly positive an experience. Part of the problem is aesthetic: Ms. Waldman has a tendency to slide into the prefab language of psychotherapy or  . (\\u201cIt is suddenly so obvious that what I need to do is just get out of my own way. \\u201d) Her sense of humor can be unsubtle. (On the weak magic mushrooms she once tried in college: \\u201cIt\\u2019s possible that all I ate was a handful of dried shiitakes dipped in cow manure. \\u201d) She\\u2019s a fan of extended metaphors, and almost no one should be a fan of extended metaphors. They involve beating a dead horse, converting it to glue, and then discovering the glue doesn\\u2019t work. If you see what I mean. And her observations can be trite. Her anxious   while meditating  \\u2014   \\u201cNow you\\u2019re thinking about thinking! Stop berating yourself for thinking!\\u201d  \\u2014   will surprise exactly no one. But then Ms. Waldman will capture you with genuinely brave and human moments, like when she confesses that she yells at people because she enjoys it. Or when she says her talents aren\\u2019t considerable enough to earn her a great artist\\u2019s tempestuous mood swings. Or expresses guilt that her oldest child has had to bear the brunt of her anger and depression. Her reminiscences about her time defending poor, defenseless clients in Los Angeles are riveting. I am not sure they belong in this book  \\u2014   especially when she talks about the unfairness of our sentencing guidelines (I mean, agreed, but this is neither the time nor the place for  )  \\u2014   but I\\u2019d love to see an independent memoir about her legal work one day. Ms. Waldman\\u2019s survey of the history and literature of psychotropic drugs is informative, though it can also, on occasion, be too sloppy and loose. She casually drops the phrase \\u201cAlzheimer\\u2019  benzos\\u201d (short for benzodiazepines, that class of   drugs including Valium and Xanax) without so much as a footnote, and this claim is hardly settled science. She writes that Francis Crick \\u201creportedly\\u201d experimented with LSD when he envisioned the double helix, and then takes it back in a footnote. \\u201cCouldn\\u2019t we just pretend it\\u2019s true?\\u201d she asks. No, we can\\u2019t. There are other uncareful moments of this kind, and other undocumented declarations. I mention them not to be picayune, but because writing about drug research is a delicate business, requiring a certain amount of control in one\\u2019s voice. You really don\\u2019t want readers doubting your authority when you\\u2019re making an argument in favor of a maligned and illegal substance. But it\\u2019s an argument that needs to be made. As she did with her 2009 essay collection, \\u201cBad Mother,\\u201d which decriminalized ordinary mommy infractions and helped bring a sense of proportion to the messy enterprise of parenting, Ms. Waldman brings a huge dose of compassion and, yes, good sense to \\u201cA Really Good Day. \\u201d Whatever her foibles or stylistic lapses, she makes a persuasive case for the therapeutic use of psychedelics. (Want to be inspired? Read the research on the effects of hallucinogens on dying cancer patients.) As ever, Ms. Waldman is wielding her powers of provocation to goad us into an uncomfortable but necessary conversation. Quibble with her style, her methods, her desire to attract attention. In normalizing the conversation about LSD, she may one day help others feel normal.\"\n        ],\n        \"semantic_type\": \"\",\n        \"description\": \"\"\n      }\n    },\n    {\n      \"column\": \"label\",\n      \"properties\": {\n        \"dtype\": \"date\",\n        \"min\": \"1970-01-01 00:00:00\",\n        \"max\": \"1970-01-01 00:00:00.000000001\",\n        \"num_unique_values\": 3,\n        \"samples\": [\n          1.0,\n          0.0,\n          \"\"\n        ],\n        \"semantic_type\": \"\",\n        \"description\": \"\"\n      }\n    },\n    {\n      \"column\": \"content\",\n      \"properties\": {\n        \"dtype\": \"string\",\n        \"num_unique_values\": 19368,\n        \"samples\": [\n          \"Donald Trump: Bring Back the \\u2019Travel Ban\\u2019 to Fight Terror Charlie Spiering\",\n          \"Payday Loans\\u2019 Debt Spiral to Be Curtailed - The New York Times Stacy Cowley\",\n          \" Richard\"\n        ],\n        \"semantic_type\": \"\",\n        \"description\": \"\"\n      }\n    }\n  ]\n}"
            }
          },
          "metadata": {},
          "execution_count": 15
        }
      ]
    },
    {
      "cell_type": "code",
      "source": [
        "#sepearing features and target"
      ],
      "metadata": {
        "id": "EOUwkQamCc9r"
      },
      "execution_count": 17,
      "outputs": []
    },
    {
      "cell_type": "code",
      "source": [
        "x=news_dataset.drop(columns='label',axis=1)\n",
        "y=news_dataset['label']"
      ],
      "metadata": {
        "id": "eX2wv-xwCluj"
      },
      "execution_count": 18,
      "outputs": []
    },
    {
      "cell_type": "code",
      "source": [
        "print(x)"
      ],
      "metadata": {
        "colab": {
          "base_uri": "https://localhost:8080/"
        },
        "id": "TSrcH6UVCtCX",
        "outputId": "f9092ebb-7a76-48f4-d0bf-3bdd403ab4ac"
      },
      "execution_count": 19,
      "outputs": [
        {
          "output_type": "stream",
          "name": "stdout",
          "text": [
            "          id                                              title  \\\n",
            "0          0  House Dem Aide: We Didn’t Even See Comey’s Let...   \n",
            "1          1  FLYNN: Hillary Clinton, Big Woman on Campus - ...   \n",
            "2          2                  Why the Truth Might Get You Fired   \n",
            "3          3  15 Civilians Killed In Single US Airstrike Hav...   \n",
            "4          4  Iranian woman jailed for fictional unpublished...   \n",
            "...      ...                                                ...   \n",
            "19716  19702  Re: The Far Left Is Planning The Biggest Polit...   \n",
            "19717  19703  Brooks Koepka Wins First Major at U.S. Open - ...   \n",
            "19718  19704     100 Notable Books of 2016 - The New York Times   \n",
            "19719  19705  Lessons of Syria: Russia to Form a 'Superlight...   \n",
            "19720  19706  If Clinton Campaign Believes WikiLeaks Emails ...   \n",
            "\n",
            "                   author                                               text  \\\n",
            "0           Darrell Lucus  House Dem Aide: We Didn’t Even See Comey’s Let...   \n",
            "1         Daniel J. Flynn  Ever get the feeling your life circles the rou...   \n",
            "2      Consortiumnews.com  Why the Truth Might Get You Fired October 29, ...   \n",
            "3         Jessica Purkiss  Videos 15 Civilians Killed In Single US Airstr...   \n",
            "4          Howard Portnoy  Print \\nAn Iranian woman has been sentenced to...   \n",
            "...                   ...                                                ...   \n",
            "19716                  lg    The Far Left Is Planning The Biggest Politic...   \n",
            "19717      Daniel Redmond  ERIN, Wis. —  Brooks Koepka proved too big, to...   \n",
            "19718                      The year’s notable fiction, poetry and nonfict...   \n",
            "19719                      Politics Lessons of Syria: Russia to Form a 'S...   \n",
            "19720                      Elections 2016 \\nTop democrats have repeatedly...   \n",
            "\n",
            "                                                 content  \n",
            "0      House Dem Aide: We Didn’t Even See Comey’s Let...  \n",
            "1      FLYNN: Hillary Clinton, Big Woman on Campus - ...  \n",
            "2      Why the Truth Might Get You Fired Consortiumne...  \n",
            "3      15 Civilians Killed In Single US Airstrike Hav...  \n",
            "4      Iranian woman jailed for fictional unpublished...  \n",
            "...                                                  ...  \n",
            "19716  Re: The Far Left Is Planning The Biggest Polit...  \n",
            "19717  Brooks Koepka Wins First Major at U.S. Open - ...  \n",
            "19718    100 Notable Books of 2016 - The New York Times   \n",
            "19719  Lessons of Syria: Russia to Form a 'Superlight...  \n",
            "19720  If Clinton Campaign Believes WikiLeaks Emails ...  \n",
            "\n",
            "[19721 rows x 5 columns]\n"
          ]
        }
      ]
    },
    {
      "cell_type": "code",
      "source": [
        "print(y)"
      ],
      "metadata": {
        "colab": {
          "base_uri": "https://localhost:8080/"
        },
        "id": "hrBOfh6SCup9",
        "outputId": "85b1c235-350b-47b5-814b-0106e531d14f"
      },
      "execution_count": 20,
      "outputs": [
        {
          "output_type": "stream",
          "name": "stdout",
          "text": [
            "0        1.0\n",
            "1        0.0\n",
            "2        1.0\n",
            "3        1.0\n",
            "4        1.0\n",
            "        ... \n",
            "19716    1.0\n",
            "19717    0.0\n",
            "19718    0.0\n",
            "19719    1.0\n",
            "19720    1.0\n",
            "Name: label, Length: 19721, dtype: object\n"
          ]
        }
      ]
    },
    {
      "cell_type": "code",
      "source": [
        "#stemming is the process of reducing a word to itskeyboard\n",
        "port_stemmer = PorterStemmer()"
      ],
      "metadata": {
        "id": "dpF2rZ2CCwi4"
      },
      "execution_count": 21,
      "outputs": []
    },
    {
      "cell_type": "code",
      "source": [
        "def stemming(content):\n",
        "    stemmed_content = re.sub('[^a-zA-Z]',' ',content)\n",
        "    stemmed_content = stemmed_content.lower()\n",
        "    stemmed_content = stemmed_content.split()\n",
        "    stemmed_content = [port_stemmer.stem(word) for word in stemmed_content if not word in stopwords.words('english')]\n",
        "    stemmed_content = ' '.join(stemmed_content)\n",
        "    return stemmed_content\n",
        "#"
      ],
      "metadata": {
        "id": "v2vvp78qC_W4"
      },
      "execution_count": 24,
      "outputs": []
    },
    {
      "cell_type": "code",
      "source": [
        "news_dataset['content'] = news_dataset['content'].apply(stemming)"
      ],
      "metadata": {
        "colab": {
          "base_uri": "https://localhost:8080/",
          "height": 321
        },
        "id": "4_se_goyDLJ0",
        "outputId": "f759d40f-826c-4fd7-ac61-2b8b1e0c3392"
      },
      "execution_count": 26,
      "outputs": [
        {
          "output_type": "error",
          "ename": "TypeError",
          "evalue": "expected string or bytes-like object",
          "traceback": [
            "\u001b[0;31m---------------------------------------------------------------------------\u001b[0m",
            "\u001b[0;31mTypeError\u001b[0m                                 Traceback (most recent call last)",
            "\u001b[0;32m<ipython-input-26-0b6a5c3e5961>\u001b[0m in \u001b[0;36m<cell line: 1>\u001b[0;34m()\u001b[0m\n\u001b[0;32m----> 1\u001b[0;31m \u001b[0mnews_dataset\u001b[0m\u001b[0;34m[\u001b[0m\u001b[0;34m'content'\u001b[0m\u001b[0;34m]\u001b[0m \u001b[0;34m=\u001b[0m \u001b[0mnews_dataset\u001b[0m\u001b[0;34m[\u001b[0m\u001b[0;34m'content'\u001b[0m\u001b[0;34m]\u001b[0m\u001b[0;34m.\u001b[0m\u001b[0mapply\u001b[0m\u001b[0;34m(\u001b[0m\u001b[0mstemming\u001b[0m\u001b[0;34m)\u001b[0m\u001b[0;34m\u001b[0m\u001b[0;34m\u001b[0m\u001b[0m\n\u001b[0m",
            "\u001b[0;32m/usr/local/lib/python3.10/dist-packages/pandas/core/series.py\u001b[0m in \u001b[0;36mapply\u001b[0;34m(self, func, convert_dtype, args, by_row, **kwargs)\u001b[0m\n\u001b[1;32m   4922\u001b[0m             \u001b[0margs\u001b[0m\u001b[0;34m=\u001b[0m\u001b[0margs\u001b[0m\u001b[0;34m,\u001b[0m\u001b[0;34m\u001b[0m\u001b[0;34m\u001b[0m\u001b[0m\n\u001b[1;32m   4923\u001b[0m             \u001b[0mkwargs\u001b[0m\u001b[0;34m=\u001b[0m\u001b[0mkwargs\u001b[0m\u001b[0;34m,\u001b[0m\u001b[0;34m\u001b[0m\u001b[0;34m\u001b[0m\u001b[0m\n\u001b[0;32m-> 4924\u001b[0;31m         ).apply()\n\u001b[0m\u001b[1;32m   4925\u001b[0m \u001b[0;34m\u001b[0m\u001b[0m\n\u001b[1;32m   4926\u001b[0m     def _reindex_indexer(\n",
            "\u001b[0;32m/usr/local/lib/python3.10/dist-packages/pandas/core/apply.py\u001b[0m in \u001b[0;36mapply\u001b[0;34m(self)\u001b[0m\n\u001b[1;32m   1425\u001b[0m \u001b[0;34m\u001b[0m\u001b[0m\n\u001b[1;32m   1426\u001b[0m         \u001b[0;31m# self.func is Callable\u001b[0m\u001b[0;34m\u001b[0m\u001b[0;34m\u001b[0m\u001b[0m\n\u001b[0;32m-> 1427\u001b[0;31m         \u001b[0;32mreturn\u001b[0m \u001b[0mself\u001b[0m\u001b[0;34m.\u001b[0m\u001b[0mapply_standard\u001b[0m\u001b[0;34m(\u001b[0m\u001b[0;34m)\u001b[0m\u001b[0;34m\u001b[0m\u001b[0;34m\u001b[0m\u001b[0m\n\u001b[0m\u001b[1;32m   1428\u001b[0m \u001b[0;34m\u001b[0m\u001b[0m\n\u001b[1;32m   1429\u001b[0m     \u001b[0;32mdef\u001b[0m \u001b[0magg\u001b[0m\u001b[0;34m(\u001b[0m\u001b[0mself\u001b[0m\u001b[0;34m)\u001b[0m\u001b[0;34m:\u001b[0m\u001b[0;34m\u001b[0m\u001b[0;34m\u001b[0m\u001b[0m\n",
            "\u001b[0;32m/usr/local/lib/python3.10/dist-packages/pandas/core/apply.py\u001b[0m in \u001b[0;36mapply_standard\u001b[0;34m(self)\u001b[0m\n\u001b[1;32m   1505\u001b[0m         \u001b[0;31m#  Categorical (GH51645).\u001b[0m\u001b[0;34m\u001b[0m\u001b[0;34m\u001b[0m\u001b[0m\n\u001b[1;32m   1506\u001b[0m         \u001b[0maction\u001b[0m \u001b[0;34m=\u001b[0m \u001b[0;34m\"ignore\"\u001b[0m \u001b[0;32mif\u001b[0m \u001b[0misinstance\u001b[0m\u001b[0;34m(\u001b[0m\u001b[0mobj\u001b[0m\u001b[0;34m.\u001b[0m\u001b[0mdtype\u001b[0m\u001b[0;34m,\u001b[0m \u001b[0mCategoricalDtype\u001b[0m\u001b[0;34m)\u001b[0m \u001b[0;32melse\u001b[0m \u001b[0;32mNone\u001b[0m\u001b[0;34m\u001b[0m\u001b[0;34m\u001b[0m\u001b[0m\n\u001b[0;32m-> 1507\u001b[0;31m         mapped = obj._map_values(\n\u001b[0m\u001b[1;32m   1508\u001b[0m             \u001b[0mmapper\u001b[0m\u001b[0;34m=\u001b[0m\u001b[0mcurried\u001b[0m\u001b[0;34m,\u001b[0m \u001b[0mna_action\u001b[0m\u001b[0;34m=\u001b[0m\u001b[0maction\u001b[0m\u001b[0;34m,\u001b[0m \u001b[0mconvert\u001b[0m\u001b[0;34m=\u001b[0m\u001b[0mself\u001b[0m\u001b[0;34m.\u001b[0m\u001b[0mconvert_dtype\u001b[0m\u001b[0;34m\u001b[0m\u001b[0;34m\u001b[0m\u001b[0m\n\u001b[1;32m   1509\u001b[0m         )\n",
            "\u001b[0;32m/usr/local/lib/python3.10/dist-packages/pandas/core/base.py\u001b[0m in \u001b[0;36m_map_values\u001b[0;34m(self, mapper, na_action, convert)\u001b[0m\n\u001b[1;32m    919\u001b[0m             \u001b[0;32mreturn\u001b[0m \u001b[0marr\u001b[0m\u001b[0;34m.\u001b[0m\u001b[0mmap\u001b[0m\u001b[0;34m(\u001b[0m\u001b[0mmapper\u001b[0m\u001b[0;34m,\u001b[0m \u001b[0mna_action\u001b[0m\u001b[0;34m=\u001b[0m\u001b[0mna_action\u001b[0m\u001b[0;34m)\u001b[0m\u001b[0;34m\u001b[0m\u001b[0;34m\u001b[0m\u001b[0m\n\u001b[1;32m    920\u001b[0m \u001b[0;34m\u001b[0m\u001b[0m\n\u001b[0;32m--> 921\u001b[0;31m         \u001b[0;32mreturn\u001b[0m \u001b[0malgorithms\u001b[0m\u001b[0;34m.\u001b[0m\u001b[0mmap_array\u001b[0m\u001b[0;34m(\u001b[0m\u001b[0marr\u001b[0m\u001b[0;34m,\u001b[0m \u001b[0mmapper\u001b[0m\u001b[0;34m,\u001b[0m \u001b[0mna_action\u001b[0m\u001b[0;34m=\u001b[0m\u001b[0mna_action\u001b[0m\u001b[0;34m,\u001b[0m \u001b[0mconvert\u001b[0m\u001b[0;34m=\u001b[0m\u001b[0mconvert\u001b[0m\u001b[0;34m)\u001b[0m\u001b[0;34m\u001b[0m\u001b[0;34m\u001b[0m\u001b[0m\n\u001b[0m\u001b[1;32m    922\u001b[0m \u001b[0;34m\u001b[0m\u001b[0m\n\u001b[1;32m    923\u001b[0m     \u001b[0;34m@\u001b[0m\u001b[0mfinal\u001b[0m\u001b[0;34m\u001b[0m\u001b[0;34m\u001b[0m\u001b[0m\n",
            "\u001b[0;32m/usr/local/lib/python3.10/dist-packages/pandas/core/algorithms.py\u001b[0m in \u001b[0;36mmap_array\u001b[0;34m(arr, mapper, na_action, convert)\u001b[0m\n\u001b[1;32m   1741\u001b[0m     \u001b[0mvalues\u001b[0m \u001b[0;34m=\u001b[0m \u001b[0marr\u001b[0m\u001b[0;34m.\u001b[0m\u001b[0mastype\u001b[0m\u001b[0;34m(\u001b[0m\u001b[0mobject\u001b[0m\u001b[0;34m,\u001b[0m \u001b[0mcopy\u001b[0m\u001b[0;34m=\u001b[0m\u001b[0;32mFalse\u001b[0m\u001b[0;34m)\u001b[0m\u001b[0;34m\u001b[0m\u001b[0;34m\u001b[0m\u001b[0m\n\u001b[1;32m   1742\u001b[0m     \u001b[0;32mif\u001b[0m \u001b[0mna_action\u001b[0m \u001b[0;32mis\u001b[0m \u001b[0;32mNone\u001b[0m\u001b[0;34m:\u001b[0m\u001b[0;34m\u001b[0m\u001b[0;34m\u001b[0m\u001b[0m\n\u001b[0;32m-> 1743\u001b[0;31m         \u001b[0;32mreturn\u001b[0m \u001b[0mlib\u001b[0m\u001b[0;34m.\u001b[0m\u001b[0mmap_infer\u001b[0m\u001b[0;34m(\u001b[0m\u001b[0mvalues\u001b[0m\u001b[0;34m,\u001b[0m \u001b[0mmapper\u001b[0m\u001b[0;34m,\u001b[0m \u001b[0mconvert\u001b[0m\u001b[0;34m=\u001b[0m\u001b[0mconvert\u001b[0m\u001b[0;34m)\u001b[0m\u001b[0;34m\u001b[0m\u001b[0;34m\u001b[0m\u001b[0m\n\u001b[0m\u001b[1;32m   1744\u001b[0m     \u001b[0;32melse\u001b[0m\u001b[0;34m:\u001b[0m\u001b[0;34m\u001b[0m\u001b[0;34m\u001b[0m\u001b[0m\n\u001b[1;32m   1745\u001b[0m         return lib.map_infer_mask(\n",
            "\u001b[0;32mlib.pyx\u001b[0m in \u001b[0;36mpandas._libs.lib.map_infer\u001b[0;34m()\u001b[0m\n",
            "\u001b[0;32m<ipython-input-24-d0c7ad533960>\u001b[0m in \u001b[0;36mstemming\u001b[0;34m(content)\u001b[0m\n\u001b[1;32m      1\u001b[0m \u001b[0;32mdef\u001b[0m \u001b[0mstemming\u001b[0m\u001b[0;34m(\u001b[0m\u001b[0mcontent\u001b[0m\u001b[0;34m)\u001b[0m\u001b[0;34m:\u001b[0m\u001b[0;34m\u001b[0m\u001b[0;34m\u001b[0m\u001b[0m\n\u001b[0;32m----> 2\u001b[0;31m     \u001b[0mstemmed_content\u001b[0m \u001b[0;34m=\u001b[0m \u001b[0mre\u001b[0m\u001b[0;34m.\u001b[0m\u001b[0msub\u001b[0m\u001b[0;34m(\u001b[0m\u001b[0;34m'[^a-zA-Z]'\u001b[0m\u001b[0;34m,\u001b[0m\u001b[0;34m' '\u001b[0m\u001b[0;34m,\u001b[0m\u001b[0mcontent\u001b[0m\u001b[0;34m)\u001b[0m\u001b[0;34m\u001b[0m\u001b[0;34m\u001b[0m\u001b[0m\n\u001b[0m\u001b[1;32m      3\u001b[0m     \u001b[0mstemmed_content\u001b[0m \u001b[0;34m=\u001b[0m \u001b[0mstemmed_content\u001b[0m\u001b[0;34m.\u001b[0m\u001b[0mlower\u001b[0m\u001b[0;34m(\u001b[0m\u001b[0;34m)\u001b[0m\u001b[0;34m\u001b[0m\u001b[0;34m\u001b[0m\u001b[0m\n\u001b[1;32m      4\u001b[0m     \u001b[0mstemmed_content\u001b[0m \u001b[0;34m=\u001b[0m \u001b[0mstemmed_content\u001b[0m\u001b[0;34m.\u001b[0m\u001b[0msplit\u001b[0m\u001b[0;34m(\u001b[0m\u001b[0;34m)\u001b[0m\u001b[0;34m\u001b[0m\u001b[0;34m\u001b[0m\u001b[0m\n\u001b[1;32m      5\u001b[0m     \u001b[0mstemmed_content\u001b[0m \u001b[0;34m=\u001b[0m \u001b[0;34m[\u001b[0m\u001b[0mport_stemmer\u001b[0m\u001b[0;34m.\u001b[0m\u001b[0mstem\u001b[0m\u001b[0;34m(\u001b[0m\u001b[0mword\u001b[0m\u001b[0;34m)\u001b[0m \u001b[0;32mfor\u001b[0m \u001b[0mword\u001b[0m \u001b[0;32min\u001b[0m \u001b[0mstemmed_content\u001b[0m \u001b[0;32mif\u001b[0m \u001b[0;32mnot\u001b[0m \u001b[0mword\u001b[0m \u001b[0;32min\u001b[0m \u001b[0mstopwords\u001b[0m\u001b[0;34m.\u001b[0m\u001b[0mwords\u001b[0m\u001b[0;34m(\u001b[0m\u001b[0;34m'english'\u001b[0m\u001b[0;34m)\u001b[0m\u001b[0;34m]\u001b[0m\u001b[0;34m\u001b[0m\u001b[0;34m\u001b[0m\u001b[0m\n",
            "\u001b[0;32m/usr/lib/python3.10/re.py\u001b[0m in \u001b[0;36msub\u001b[0;34m(pattern, repl, string, count, flags)\u001b[0m\n\u001b[1;32m    207\u001b[0m     \u001b[0ma\u001b[0m \u001b[0mcallable\u001b[0m\u001b[0;34m,\u001b[0m \u001b[0mit\u001b[0m\u001b[0;31m'\u001b[0m\u001b[0ms\u001b[0m \u001b[0mpassed\u001b[0m \u001b[0mthe\u001b[0m \u001b[0mMatch\u001b[0m \u001b[0mobject\u001b[0m \u001b[0;32mand\u001b[0m \u001b[0mmust\u001b[0m \u001b[0;32mreturn\u001b[0m\u001b[0;34m\u001b[0m\u001b[0;34m\u001b[0m\u001b[0m\n\u001b[1;32m    208\u001b[0m     a replacement string to be used.\"\"\"\n\u001b[0;32m--> 209\u001b[0;31m     \u001b[0;32mreturn\u001b[0m \u001b[0m_compile\u001b[0m\u001b[0;34m(\u001b[0m\u001b[0mpattern\u001b[0m\u001b[0;34m,\u001b[0m \u001b[0mflags\u001b[0m\u001b[0;34m)\u001b[0m\u001b[0;34m.\u001b[0m\u001b[0msub\u001b[0m\u001b[0;34m(\u001b[0m\u001b[0mrepl\u001b[0m\u001b[0;34m,\u001b[0m \u001b[0mstring\u001b[0m\u001b[0;34m,\u001b[0m \u001b[0mcount\u001b[0m\u001b[0;34m)\u001b[0m\u001b[0;34m\u001b[0m\u001b[0;34m\u001b[0m\u001b[0m\n\u001b[0m\u001b[1;32m    210\u001b[0m \u001b[0;34m\u001b[0m\u001b[0m\n\u001b[1;32m    211\u001b[0m \u001b[0;32mdef\u001b[0m \u001b[0msubn\u001b[0m\u001b[0;34m(\u001b[0m\u001b[0mpattern\u001b[0m\u001b[0;34m,\u001b[0m \u001b[0mrepl\u001b[0m\u001b[0;34m,\u001b[0m \u001b[0mstring\u001b[0m\u001b[0;34m,\u001b[0m \u001b[0mcount\u001b[0m\u001b[0;34m=\u001b[0m\u001b[0;36m0\u001b[0m\u001b[0;34m,\u001b[0m \u001b[0mflags\u001b[0m\u001b[0;34m=\u001b[0m\u001b[0;36m0\u001b[0m\u001b[0;34m)\u001b[0m\u001b[0;34m:\u001b[0m\u001b[0;34m\u001b[0m\u001b[0;34m\u001b[0m\u001b[0m\n",
            "\u001b[0;31mTypeError\u001b[0m: expected string or bytes-like object"
          ]
        }
      ]
    },
    {
      "source": [
        "def stemming(content):\n",
        "    # Convert 'content' to string to ensure re.sub works correctly\n",
        "    content = str(content)\n",
        "    stemmed_content = re.sub('[^a-zA-Z]',' ',content)\n",
        "    stemmed_content = stemmed_content.lower()\n",
        "    stemmed_content = stemmed_content.split()\n",
        "    stemmed_content = [port_stemmer.stem(word) for word in stemmed_content if not word in stopwords.words('english')]\n",
        "    stemmed_content = ' '.join(stemmed_content)\n",
        "    return stemmed_content"
      ],
      "cell_type": "code",
      "metadata": {
        "id": "DS-HetkQENrV"
      },
      "execution_count": 27,
      "outputs": []
    },
    {
      "cell_type": "code",
      "source": [
        "news_dataset['content'] = news_dataset['content'].apply(stemming)"
      ],
      "metadata": {
        "id": "kown4VKjD0qu"
      },
      "execution_count": 28,
      "outputs": []
    },
    {
      "cell_type": "code",
      "source": [
        "print(news_dataset['content'])"
      ],
      "metadata": {
        "colab": {
          "base_uri": "https://localhost:8080/"
        },
        "id": "QGaIyEBYERGK",
        "outputId": "422a95e9-bbe0-4f95-8996-4375fc408df7"
      },
      "execution_count": 29,
      "outputs": [
        {
          "output_type": "stream",
          "name": "stdout",
          "text": [
            "0        none\n",
            "1        none\n",
            "2        none\n",
            "3        none\n",
            "4        none\n",
            "         ... \n",
            "19716    none\n",
            "19717    none\n",
            "19718    none\n",
            "19719    none\n",
            "19720    none\n",
            "Name: content, Length: 19721, dtype: object\n"
          ]
        }
      ]
    },
    {
      "cell_type": "code",
      "source": [
        "x=news_dataset['content'].values\n",
        "y=news_dataset['label'].values"
      ],
      "metadata": {
        "id": "gidOReNfEWqT"
      },
      "execution_count": 32,
      "outputs": []
    },
    {
      "cell_type": "code",
      "source": [
        "print(x)"
      ],
      "metadata": {
        "colab": {
          "base_uri": "https://localhost:8080/"
        },
        "id": "pVklFFwyEmGU",
        "outputId": "98fc2067-86e3-48e1-e565-831d1b8f7658"
      },
      "execution_count": 33,
      "outputs": [
        {
          "output_type": "stream",
          "name": "stdout",
          "text": [
            "['none' 'none' 'none' ... 'none' 'none' 'none']\n"
          ]
        }
      ]
    },
    {
      "cell_type": "code",
      "source": [
        "print(y)"
      ],
      "metadata": {
        "colab": {
          "base_uri": "https://localhost:8080/"
        },
        "id": "qMieCeQRErRc",
        "outputId": "81a80dc5-d150-46a5-8d39-c17e83f63ab4"
      },
      "execution_count": 34,
      "outputs": [
        {
          "output_type": "stream",
          "name": "stdout",
          "text": [
            "[1.0 0.0 1.0 ... 0.0 1.0 1.0]\n"
          ]
        }
      ]
    },
    {
      "cell_type": "code",
      "source": [
        "y.shape"
      ],
      "metadata": {
        "colab": {
          "base_uri": "https://localhost:8080/"
        },
        "id": "61gKVSnTEtLH",
        "outputId": "b7081afd-f41c-423c-cb66-03814e639bd8"
      },
      "execution_count": 35,
      "outputs": [
        {
          "output_type": "execute_result",
          "data": {
            "text/plain": [
              "(19721,)"
            ]
          },
          "metadata": {},
          "execution_count": 35
        }
      ]
    },
    {
      "cell_type": "code",
      "source": [
        "vectorizer=TfidfVectorizer()\n",
        "vectorizer.fit(x)\n",
        "x=vectorizer.transform(x)"
      ],
      "metadata": {
        "id": "3aH69bS_Ewvy"
      },
      "execution_count": 36,
      "outputs": []
    },
    {
      "cell_type": "code",
      "source": [
        "print(x)"
      ],
      "metadata": {
        "colab": {
          "base_uri": "https://localhost:8080/"
        },
        "id": "PfzhncN-FFoV",
        "outputId": "ad797a29-ea9a-4b71-b1eb-edb46eb1d80f"
      },
      "execution_count": 37,
      "outputs": [
        {
          "output_type": "stream",
          "name": "stdout",
          "text": [
            "  (0, 0)\t1.0\n",
            "  (1, 0)\t1.0\n",
            "  (2, 0)\t1.0\n",
            "  (3, 0)\t1.0\n",
            "  (4, 0)\t1.0\n",
            "  (5, 0)\t1.0\n",
            "  (6, 0)\t1.0\n",
            "  (7, 0)\t1.0\n",
            "  (8, 0)\t1.0\n",
            "  (9, 0)\t1.0\n",
            "  (10, 0)\t1.0\n",
            "  (11, 0)\t1.0\n",
            "  (12, 0)\t1.0\n",
            "  (13, 0)\t1.0\n",
            "  (14, 0)\t1.0\n",
            "  (15, 0)\t1.0\n",
            "  (16, 0)\t1.0\n",
            "  (17, 0)\t1.0\n",
            "  (18, 0)\t1.0\n",
            "  (19, 0)\t1.0\n",
            "  (20, 0)\t1.0\n",
            "  (21, 0)\t1.0\n",
            "  (22, 0)\t1.0\n",
            "  (23, 0)\t1.0\n",
            "  (24, 0)\t1.0\n",
            "  :\t:\n",
            "  (19696, 0)\t1.0\n",
            "  (19697, 0)\t1.0\n",
            "  (19698, 0)\t1.0\n",
            "  (19699, 0)\t1.0\n",
            "  (19700, 0)\t1.0\n",
            "  (19701, 0)\t1.0\n",
            "  (19702, 0)\t1.0\n",
            "  (19703, 0)\t1.0\n",
            "  (19704, 0)\t1.0\n",
            "  (19705, 0)\t1.0\n",
            "  (19706, 0)\t1.0\n",
            "  (19707, 0)\t1.0\n",
            "  (19708, 0)\t1.0\n",
            "  (19709, 0)\t1.0\n",
            "  (19710, 0)\t1.0\n",
            "  (19711, 0)\t1.0\n",
            "  (19712, 0)\t1.0\n",
            "  (19713, 0)\t1.0\n",
            "  (19714, 0)\t1.0\n",
            "  (19715, 0)\t1.0\n",
            "  (19716, 0)\t1.0\n",
            "  (19717, 0)\t1.0\n",
            "  (19718, 0)\t1.0\n",
            "  (19719, 0)\t1.0\n",
            "  (19720, 0)\t1.0\n"
          ]
        }
      ]
    },
    {
      "cell_type": "code",
      "source": [],
      "metadata": {
        "id": "uOJRHm9_FI3u"
      },
      "execution_count": null,
      "outputs": []
    }
  ]
}